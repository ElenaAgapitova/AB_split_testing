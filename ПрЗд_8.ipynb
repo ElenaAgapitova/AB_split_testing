{
 "cells": [
  {
   "cell_type": "markdown",
   "id": "cd405adb",
   "metadata": {},
   "source": [
    "### Практическое задание №8\n",
    "\n",
    "На сайте запущен А/В тест с целью увеличить доход. В приложенном excel файле вы найдете сырые данные по результатам эксперимента – user_id, тип выборки variant_name и доход принесенный пользователем revenue.\n",
    "Проанализируйте результаты эксперимента и напишите свои рекомендации менеджеру."
   ]
  },
  {
   "cell_type": "code",
   "execution_count": 1,
   "id": "5f6af925",
   "metadata": {},
   "outputs": [],
   "source": [
    "import warnings\n",
    "\n",
    "warnings.filterwarnings('ignore')\n",
    "\n",
    "import pandas as pd\n",
    "import numpy as np\n",
    "import matplotlib.pyplot as plt\n",
    "import seaborn as sns"
   ]
  },
  {
   "cell_type": "markdown",
   "id": "f473f7e2",
   "metadata": {},
   "source": [
    "#### 1. Загрузим полученные данные из файла AB_Test_Results.xlsx"
   ]
  },
  {
   "cell_type": "code",
   "execution_count": 2,
   "id": "420deaa3",
   "metadata": {},
   "outputs": [
    {
     "data": {
      "text/html": [
       "<div>\n",
       "<style scoped>\n",
       "    .dataframe tbody tr th:only-of-type {\n",
       "        vertical-align: middle;\n",
       "    }\n",
       "\n",
       "    .dataframe tbody tr th {\n",
       "        vertical-align: top;\n",
       "    }\n",
       "\n",
       "    .dataframe thead th {\n",
       "        text-align: right;\n",
       "    }\n",
       "</style>\n",
       "<table border=\"1\" class=\"dataframe\">\n",
       "  <thead>\n",
       "    <tr style=\"text-align: right;\">\n",
       "      <th></th>\n",
       "      <th>USER_ID</th>\n",
       "      <th>VARIANT_NAME</th>\n",
       "      <th>REVENUE</th>\n",
       "    </tr>\n",
       "  </thead>\n",
       "  <tbody>\n",
       "    <tr>\n",
       "      <th>308</th>\n",
       "      <td>281</td>\n",
       "      <td>control</td>\n",
       "      <td>0.0</td>\n",
       "    </tr>\n",
       "    <tr>\n",
       "      <th>4815</th>\n",
       "      <td>5789</td>\n",
       "      <td>control</td>\n",
       "      <td>0.0</td>\n",
       "    </tr>\n",
       "    <tr>\n",
       "      <th>3038</th>\n",
       "      <td>6842</td>\n",
       "      <td>variant</td>\n",
       "      <td>0.0</td>\n",
       "    </tr>\n",
       "    <tr>\n",
       "      <th>4683</th>\n",
       "      <td>3601</td>\n",
       "      <td>variant</td>\n",
       "      <td>0.0</td>\n",
       "    </tr>\n",
       "    <tr>\n",
       "      <th>8680</th>\n",
       "      <td>546</td>\n",
       "      <td>variant</td>\n",
       "      <td>0.0</td>\n",
       "    </tr>\n",
       "    <tr>\n",
       "      <th>6460</th>\n",
       "      <td>4724</td>\n",
       "      <td>variant</td>\n",
       "      <td>0.0</td>\n",
       "    </tr>\n",
       "    <tr>\n",
       "      <th>113</th>\n",
       "      <td>2594</td>\n",
       "      <td>variant</td>\n",
       "      <td>0.0</td>\n",
       "    </tr>\n",
       "    <tr>\n",
       "      <th>8965</th>\n",
       "      <td>4296</td>\n",
       "      <td>control</td>\n",
       "      <td>0.0</td>\n",
       "    </tr>\n",
       "    <tr>\n",
       "      <th>6359</th>\n",
       "      <td>268</td>\n",
       "      <td>variant</td>\n",
       "      <td>0.0</td>\n",
       "    </tr>\n",
       "    <tr>\n",
       "      <th>8684</th>\n",
       "      <td>7550</td>\n",
       "      <td>control</td>\n",
       "      <td>0.0</td>\n",
       "    </tr>\n",
       "  </tbody>\n",
       "</table>\n",
       "</div>"
      ],
      "text/plain": [
       "      USER_ID VARIANT_NAME  REVENUE\n",
       "308       281      control      0.0\n",
       "4815     5789      control      0.0\n",
       "3038     6842      variant      0.0\n",
       "4683     3601      variant      0.0\n",
       "8680      546      variant      0.0\n",
       "6460     4724      variant      0.0\n",
       "113      2594      variant      0.0\n",
       "8965     4296      control      0.0\n",
       "6359      268      variant      0.0\n",
       "8684     7550      control      0.0"
      ]
     },
     "execution_count": 2,
     "metadata": {},
     "output_type": "execute_result"
    }
   ],
   "source": [
    "data = pd.read_excel('AB_Test_Results.xlsx')\n",
    "data.sample(10)"
   ]
  },
  {
   "cell_type": "code",
   "execution_count": 3,
   "id": "56872da2",
   "metadata": {},
   "outputs": [
    {
     "name": "stdout",
     "output_type": "stream",
     "text": [
      "<class 'pandas.core.frame.DataFrame'>\n",
      "RangeIndex: 10000 entries, 0 to 9999\n",
      "Data columns (total 3 columns):\n",
      " #   Column        Non-Null Count  Dtype  \n",
      "---  ------        --------------  -----  \n",
      " 0   USER_ID       10000 non-null  int64  \n",
      " 1   VARIANT_NAME  10000 non-null  object \n",
      " 2   REVENUE       10000 non-null  float64\n",
      "dtypes: float64(1), int64(1), object(1)\n",
      "memory usage: 234.5+ KB\n"
     ]
    }
   ],
   "source": [
    "data.info()"
   ]
  },
  {
   "cell_type": "markdown",
   "id": "ca2e547e",
   "metadata": {},
   "source": [
    "Мы имеем результаты эксперимента и показатель ARPU для контрольной и тестовой группы. Всего 10_000 наблюдений. \n",
    "Данные не содержат пустых строк и имеют соответствующий тип данных.\n",
    "\n",
    "#### 2. Разобъем наши данные на 2 группы контрольную и тестовую для дальнейшего исследования"
   ]
  },
  {
   "cell_type": "code",
   "execution_count": 4,
   "id": "2746cfe1",
   "metadata": {},
   "outputs": [
    {
     "data": {
      "text/plain": [
       "count    4984.000000\n",
       "mean        0.129013\n",
       "std         3.007524\n",
       "min         0.000000\n",
       "25%         0.000000\n",
       "50%         0.000000\n",
       "75%         0.000000\n",
       "max       196.010000\n",
       "Name: REVENUE, dtype: float64"
      ]
     },
     "execution_count": 4,
     "metadata": {},
     "output_type": "execute_result"
    }
   ],
   "source": [
    "data_A = data[data['VARIANT_NAME'] == 'control']\n",
    "data_A['REVENUE'].describe()"
   ]
  },
  {
   "cell_type": "code",
   "execution_count": 5,
   "id": "22d210cc",
   "metadata": {},
   "outputs": [
    {
     "data": {
      "text/plain": [
       "count    5016.000000\n",
       "mean        0.070070\n",
       "std         1.314802\n",
       "min         0.000000\n",
       "25%         0.000000\n",
       "50%         0.000000\n",
       "75%         0.000000\n",
       "max        58.630000\n",
       "Name: REVENUE, dtype: float64"
      ]
     },
     "execution_count": 5,
     "metadata": {},
     "output_type": "execute_result"
    }
   ],
   "source": [
    "data_B = data[data['VARIANT_NAME'] == 'variant']\n",
    "data_B['REVENUE'].describe()"
   ]
  },
  {
   "cell_type": "markdown",
   "id": "953932c4",
   "metadata": {},
   "source": [
    "В группе А (контрольная) 4984 наблюдений, среднее значение по доходу составляет 0.129, максимальное значение дохода - 196.01.\n",
    "\n",
    "В группе B (тестовая) 5016 наблюдений, среднее значение по доходу составляет 0.07, максимальное значение дохода - 58, 63.\n",
    "\n",
    "Медианы в группах равны - 0.\n",
    "\n",
    "Исходя из данных, очевидно, что размеры выборки близки по значению, средние значения отличаются на порядок, в группе A среднее значительно больше, но также в группе A максимальное значение в 3.3 раза больше, чем в группе B, что оказывает значительное влияние на среднее значение, смещая его в сторону максимума, возможно в данном случае это выброс. \n",
    "\n",
    "Посмотрим на данные групп, исключив из выборки пользователей, которые не совершили ни одной покупки."
   ]
  },
  {
   "cell_type": "code",
   "execution_count": 6,
   "id": "ae2f4b71",
   "metadata": {},
   "outputs": [
    {
     "data": {
      "text/html": [
       "<div>\n",
       "<style scoped>\n",
       "    .dataframe tbody tr th:only-of-type {\n",
       "        vertical-align: middle;\n",
       "    }\n",
       "\n",
       "    .dataframe tbody tr th {\n",
       "        vertical-align: top;\n",
       "    }\n",
       "\n",
       "    .dataframe thead th {\n",
       "        text-align: right;\n",
       "    }\n",
       "</style>\n",
       "<table border=\"1\" class=\"dataframe\">\n",
       "  <thead>\n",
       "    <tr style=\"text-align: right;\">\n",
       "      <th></th>\n",
       "      <th>USER_ID</th>\n",
       "      <th>REVENUE</th>\n",
       "    </tr>\n",
       "  </thead>\n",
       "  <tbody>\n",
       "    <tr>\n",
       "      <th>count</th>\n",
       "      <td>80.000000</td>\n",
       "      <td>80.000000</td>\n",
       "    </tr>\n",
       "    <tr>\n",
       "      <th>mean</th>\n",
       "      <td>4461.950000</td>\n",
       "      <td>8.037500</td>\n",
       "    </tr>\n",
       "    <tr>\n",
       "      <th>std</th>\n",
       "      <td>2826.386242</td>\n",
       "      <td>22.498124</td>\n",
       "    </tr>\n",
       "    <tr>\n",
       "      <th>min</th>\n",
       "      <td>124.000000</td>\n",
       "      <td>0.020000</td>\n",
       "    </tr>\n",
       "    <tr>\n",
       "      <th>25%</th>\n",
       "      <td>2037.500000</td>\n",
       "      <td>1.515000</td>\n",
       "    </tr>\n",
       "    <tr>\n",
       "      <th>50%</th>\n",
       "      <td>4327.000000</td>\n",
       "      <td>2.960000</td>\n",
       "    </tr>\n",
       "    <tr>\n",
       "      <th>75%</th>\n",
       "      <td>6636.750000</td>\n",
       "      <td>6.657500</td>\n",
       "    </tr>\n",
       "    <tr>\n",
       "      <th>max</th>\n",
       "      <td>9766.000000</td>\n",
       "      <td>196.010000</td>\n",
       "    </tr>\n",
       "  </tbody>\n",
       "</table>\n",
       "</div>"
      ],
      "text/plain": [
       "           USER_ID     REVENUE\n",
       "count    80.000000   80.000000\n",
       "mean   4461.950000    8.037500\n",
       "std    2826.386242   22.498124\n",
       "min     124.000000    0.020000\n",
       "25%    2037.500000    1.515000\n",
       "50%    4327.000000    2.960000\n",
       "75%    6636.750000    6.657500\n",
       "max    9766.000000  196.010000"
      ]
     },
     "execution_count": 6,
     "metadata": {},
     "output_type": "execute_result"
    }
   ],
   "source": [
    "data_A = data_A[data_A['REVENUE'] > 0]\n",
    "data_A.describe()"
   ]
  },
  {
   "cell_type": "code",
   "execution_count": 7,
   "id": "d2a2bc2e",
   "metadata": {},
   "outputs": [
    {
     "data": {
      "text/html": [
       "<div>\n",
       "<style scoped>\n",
       "    .dataframe tbody tr th:only-of-type {\n",
       "        vertical-align: middle;\n",
       "    }\n",
       "\n",
       "    .dataframe tbody tr th {\n",
       "        vertical-align: top;\n",
       "    }\n",
       "\n",
       "    .dataframe thead th {\n",
       "        text-align: right;\n",
       "    }\n",
       "</style>\n",
       "<table border=\"1\" class=\"dataframe\">\n",
       "  <thead>\n",
       "    <tr style=\"text-align: right;\">\n",
       "      <th></th>\n",
       "      <th>USER_ID</th>\n",
       "      <th>REVENUE</th>\n",
       "    </tr>\n",
       "  </thead>\n",
       "  <tbody>\n",
       "    <tr>\n",
       "      <th>count</th>\n",
       "      <td>72.000000</td>\n",
       "      <td>72.000000</td>\n",
       "    </tr>\n",
       "    <tr>\n",
       "      <th>mean</th>\n",
       "      <td>5306.958333</td>\n",
       "      <td>4.881528</td>\n",
       "    </tr>\n",
       "    <tr>\n",
       "      <th>std</th>\n",
       "      <td>3116.544256</td>\n",
       "      <td>9.913973</td>\n",
       "    </tr>\n",
       "    <tr>\n",
       "      <th>min</th>\n",
       "      <td>56.000000</td>\n",
       "      <td>0.020000</td>\n",
       "    </tr>\n",
       "    <tr>\n",
       "      <th>25%</th>\n",
       "      <td>2707.500000</td>\n",
       "      <td>1.245000</td>\n",
       "    </tr>\n",
       "    <tr>\n",
       "      <th>50%</th>\n",
       "      <td>5721.000000</td>\n",
       "      <td>2.170000</td>\n",
       "    </tr>\n",
       "    <tr>\n",
       "      <th>75%</th>\n",
       "      <td>7963.750000</td>\n",
       "      <td>3.972500</td>\n",
       "    </tr>\n",
       "    <tr>\n",
       "      <th>max</th>\n",
       "      <td>9996.000000</td>\n",
       "      <td>58.630000</td>\n",
       "    </tr>\n",
       "  </tbody>\n",
       "</table>\n",
       "</div>"
      ],
      "text/plain": [
       "           USER_ID    REVENUE\n",
       "count    72.000000  72.000000\n",
       "mean   5306.958333   4.881528\n",
       "std    3116.544256   9.913973\n",
       "min      56.000000   0.020000\n",
       "25%    2707.500000   1.245000\n",
       "50%    5721.000000   2.170000\n",
       "75%    7963.750000   3.972500\n",
       "max    9996.000000  58.630000"
      ]
     },
     "execution_count": 7,
     "metadata": {},
     "output_type": "execute_result"
    }
   ],
   "source": [
    "data_B = data_B[data_B['REVENUE'] > 0]\n",
    "data_B.describe()"
   ]
  },
  {
   "cell_type": "code",
   "execution_count": 8,
   "id": "3fb9b592",
   "metadata": {},
   "outputs": [
    {
     "data": {
      "image/png": "[encoded data removed]",
      "text/plain": [
       "<Figure size 800x800 with 1 Axes>"
      ]
     },
     "metadata": {},
     "output_type": "display_data"
    }
   ],
   "source": [
    "plt.figure(figsize=(8, 8))\n",
    "\n",
    "data = data[data['REVENUE'] > 0]\n",
    "\n",
    "sns.boxplot(x=data['VARIANT_NAME'], y=data['REVENUE'], data=data)\n",
    "\n",
    "plt.show()"
   ]
  },
  {
   "cell_type": "code",
   "execution_count": 9,
   "id": "866d4453",
   "metadata": {},
   "outputs": [
    {
     "data": {
      "image/png": "[encoded data removed]",
      "text/plain": [
       "<Figure size 1500x400 with 2 Axes>"
      ]
     },
     "metadata": {},
     "output_type": "display_data"
    }
   ],
   "source": [
    "fig, (ax_histplot, ay_histplot) = plt.subplots(1, 2, figsize=(15,4))\n",
    "\n",
    "ax_histplot.set_title(f\"Контрольная группа\")\n",
    "ay_histplot.set_title(f\"Тестовая группа\")\n",
    "sns.histplot(data_A['REVENUE'], color='r', bins=50, ax=ax_histplot)\n",
    "sns.histplot(data_B['REVENUE'], color='b', bins=50, ax=ay_histplot);"
   ]
  },
  {
   "cell_type": "markdown",
   "id": "55e86a53",
   "metadata": {},
   "source": [
    "На гистограмме и боксплоте очевидны выбросы, как для контрольной группы, так и для тестовой, также очевидно, что распределения наблюдений не нормальные. Исключим из наблюдений выбросы:"
   ]
  },
  {
   "cell_type": "code",
   "execution_count": 10,
   "id": "62c65ff4",
   "metadata": {},
   "outputs": [
    {
     "data": {
      "image/png": "[encoded data removed]",
      "text/plain": [
       "<Figure size 1500x400 with 2 Axes>"
      ]
     },
     "metadata": {},
     "output_type": "display_data"
    }
   ],
   "source": [
    "data_A = data_A[data_A['REVENUE'] < data_A['REVENUE'].quantile(0.975)]\n",
    "data_B = data_B[data_B['REVENUE'] < data_B['REVENUE'].quantile(0.975)]\n",
    "\n",
    "fig, (ax_histplot, ay_histplot) = plt.subplots(1, 2, figsize=(15, 4))\n",
    "\n",
    "ax_histplot.set_title('Контрольная группа')\n",
    "ay_histplot.set_title('Тестовая группа')\n",
    "sns.histplot(data_A['REVENUE'], bins=20, color='r', ax=ax_histplot)\n",
    "sns.histplot(data_B['REVENUE'], bins=20, color='b', ax=ay_histplot);"
   ]
  },
  {
   "cell_type": "code",
   "execution_count": 11,
   "id": "5e769469",
   "metadata": {},
   "outputs": [
    {
     "data": {
      "text/html": [
       "<div>\n",
       "<style scoped>\n",
       "    .dataframe tbody tr th:only-of-type {\n",
       "        vertical-align: middle;\n",
       "    }\n",
       "\n",
       "    .dataframe tbody tr th {\n",
       "        vertical-align: top;\n",
       "    }\n",
       "\n",
       "    .dataframe thead th {\n",
       "        text-align: right;\n",
       "    }\n",
       "</style>\n",
       "<table border=\"1\" class=\"dataframe\">\n",
       "  <thead>\n",
       "    <tr style=\"text-align: right;\">\n",
       "      <th></th>\n",
       "      <th>USER_ID</th>\n",
       "      <th>REVENUE</th>\n",
       "    </tr>\n",
       "  </thead>\n",
       "  <tbody>\n",
       "    <tr>\n",
       "      <th>count</th>\n",
       "      <td>78.000000</td>\n",
       "      <td>78.000000</td>\n",
       "    </tr>\n",
       "    <tr>\n",
       "      <th>mean</th>\n",
       "      <td>4446.435897</td>\n",
       "      <td>5.198205</td>\n",
       "    </tr>\n",
       "    <tr>\n",
       "      <th>std</th>\n",
       "      <td>2847.614817</td>\n",
       "      <td>6.140000</td>\n",
       "    </tr>\n",
       "    <tr>\n",
       "      <th>min</th>\n",
       "      <td>124.000000</td>\n",
       "      <td>0.020000</td>\n",
       "    </tr>\n",
       "    <tr>\n",
       "      <th>25%</th>\n",
       "      <td>1994.500000</td>\n",
       "      <td>1.505000</td>\n",
       "    </tr>\n",
       "    <tr>\n",
       "      <th>50%</th>\n",
       "      <td>4327.000000</td>\n",
       "      <td>2.765000</td>\n",
       "    </tr>\n",
       "    <tr>\n",
       "      <th>75%</th>\n",
       "      <td>6590.250000</td>\n",
       "      <td>4.972500</td>\n",
       "    </tr>\n",
       "    <tr>\n",
       "      <th>max</th>\n",
       "      <td>9766.000000</td>\n",
       "      <td>29.320000</td>\n",
       "    </tr>\n",
       "  </tbody>\n",
       "</table>\n",
       "</div>"
      ],
      "text/plain": [
       "           USER_ID    REVENUE\n",
       "count    78.000000  78.000000\n",
       "mean   4446.435897   5.198205\n",
       "std    2847.614817   6.140000\n",
       "min     124.000000   0.020000\n",
       "25%    1994.500000   1.505000\n",
       "50%    4327.000000   2.765000\n",
       "75%    6590.250000   4.972500\n",
       "max    9766.000000  29.320000"
      ]
     },
     "execution_count": 11,
     "metadata": {},
     "output_type": "execute_result"
    }
   ],
   "source": [
    "data_A.describe()"
   ]
  },
  {
   "cell_type": "code",
   "execution_count": 12,
   "id": "3e35f5e1",
   "metadata": {},
   "outputs": [
    {
     "data": {
      "text/html": [
       "<div>\n",
       "<style scoped>\n",
       "    .dataframe tbody tr th:only-of-type {\n",
       "        vertical-align: middle;\n",
       "    }\n",
       "\n",
       "    .dataframe tbody tr th {\n",
       "        vertical-align: top;\n",
       "    }\n",
       "\n",
       "    .dataframe thead th {\n",
       "        text-align: right;\n",
       "    }\n",
       "</style>\n",
       "<table border=\"1\" class=\"dataframe\">\n",
       "  <thead>\n",
       "    <tr style=\"text-align: right;\">\n",
       "      <th></th>\n",
       "      <th>USER_ID</th>\n",
       "      <th>REVENUE</th>\n",
       "    </tr>\n",
       "  </thead>\n",
       "  <tbody>\n",
       "    <tr>\n",
       "      <th>count</th>\n",
       "      <td>70.000000</td>\n",
       "      <td>70.000000</td>\n",
       "    </tr>\n",
       "    <tr>\n",
       "      <th>mean</th>\n",
       "      <td>5314.485714</td>\n",
       "      <td>3.362571</td>\n",
       "    </tr>\n",
       "    <tr>\n",
       "      <th>std</th>\n",
       "      <td>3139.548143</td>\n",
       "      <td>4.106318</td>\n",
       "    </tr>\n",
       "    <tr>\n",
       "      <th>min</th>\n",
       "      <td>56.000000</td>\n",
       "      <td>0.020000</td>\n",
       "    </tr>\n",
       "    <tr>\n",
       "      <th>25%</th>\n",
       "      <td>2588.500000</td>\n",
       "      <td>1.235000</td>\n",
       "    </tr>\n",
       "    <tr>\n",
       "      <th>50%</th>\n",
       "      <td>5721.000000</td>\n",
       "      <td>2.165000</td>\n",
       "    </tr>\n",
       "    <tr>\n",
       "      <th>75%</th>\n",
       "      <td>8061.250000</td>\n",
       "      <td>3.810000</td>\n",
       "    </tr>\n",
       "    <tr>\n",
       "      <th>max</th>\n",
       "      <td>9996.000000</td>\n",
       "      <td>23.040000</td>\n",
       "    </tr>\n",
       "  </tbody>\n",
       "</table>\n",
       "</div>"
      ],
      "text/plain": [
       "           USER_ID    REVENUE\n",
       "count    70.000000  70.000000\n",
       "mean   5314.485714   3.362571\n",
       "std    3139.548143   4.106318\n",
       "min      56.000000   0.020000\n",
       "25%    2588.500000   1.235000\n",
       "50%    5721.000000   2.165000\n",
       "75%    8061.250000   3.810000\n",
       "max    9996.000000  23.040000"
      ]
     },
     "execution_count": 12,
     "metadata": {},
     "output_type": "execute_result"
    }
   ],
   "source": [
    "data_B.describe()"
   ]
  },
  {
   "cell_type": "markdown",
   "id": "ae17d760",
   "metadata": {},
   "source": [
    "После того, как мы исключили из выборок пользователей, которые не совершили ни одной покупки, а также существенные выбросы, мы получили похожие распределения значений доходов, как контрольной, так и тестовой группе, распределения не нормальные, данные независимые и количественные, следовательно для анализа статистических значисости необходим критерриу Манна-Уитни.\n",
    "\n",
    "Из описательной статистики очевидны различия групп, как по средним значениям, так и по медиане."
   ]
  },
  {
   "cell_type": "code",
   "execution_count": 13,
   "id": "d7c82361",
   "metadata": {},
   "outputs": [
    {
     "name": "stdout",
     "output_type": "stream",
     "text": [
      "statistic=3214.00, p_value=0.0632\n",
      "Нет статистически значимых различий. Не достаточно оснований для отклонения нулевой гипотезы\n"
     ]
    }
   ],
   "source": [
    "from scipy.stats import mannwhitneyu\n",
    "\n",
    "control = data_A['REVENUE'].values\n",
    "test = data_B['REVENUE'].values\n",
    "\n",
    "statistic, p_value = mannwhitneyu(control, test)\n",
    "print(f'{statistic=:.2f}, {p_value=:.4f}')\n",
    "\n",
    "if p_value > 0.05:\n",
    "    print('Нет статистически значимых различий. Не достаточно оснований для отклонения нулевой гипотезы')\n",
    "else:\n",
    "    print('Есть статистически значимые различия.')"
   ]
  },
  {
   "cell_type": "markdown",
   "id": "8bc29c78",
   "metadata": {},
   "source": [
    "**Расмотрим также значения статистических показателей без удаления выбросов из тестовой группы**:\n"
   ]
  },
  {
   "cell_type": "code",
   "execution_count": 14,
   "id": "6047d650",
   "metadata": {},
   "outputs": [
    {
     "name": "stdout",
     "output_type": "stream",
     "text": [
      "           USER_ID    REVENUE\n",
      "count    72.000000  72.000000\n",
      "mean   5306.958333   4.881528\n",
      "std    3116.544256   9.913973\n",
      "min      56.000000   0.020000\n",
      "25%    2707.500000   1.245000\n",
      "50%    5721.000000   2.170000\n",
      "75%    7963.750000   3.972500\n",
      "max    9996.000000  58.630000\n",
      "\n",
      "statistic=3214.00, p_value=0.1271\n",
      "Нет статистически значимых различий. Не достаточно оснований для отклонения нулевой гипотезы\n"
     ]
    }
   ],
   "source": [
    "df = pd.read_excel('AB_Test_Results.xlsx')\n",
    "\n",
    "df_A = df[(df['VARIANT_NAME'] == 'control') & (df['REVENUE'] > 0)]\n",
    "df_A = df_A[df['REVENUE'] < df_A['REVENUE'].quantile(0.975)]\n",
    "\n",
    "df_B = df[(df['VARIANT_NAME'] == 'variant') & (df['REVENUE'] > 0)]\n",
    "print(df_B.describe())\n",
    "\n",
    "control = df_A['REVENUE'].values\n",
    "test = df_B['REVENUE'].values\n",
    "\n",
    "statistic, p_value = mannwhitneyu(control, test)\n",
    "print(f'\\n{statistic=:.2f}, {p_value=:.4f}')\n",
    "\n",
    "if p_value > 0.05:\n",
    "    print('Нет статистически значимых различий. Не достаточно оснований для отклонения нулевой гипотезы')\n",
    "else:\n",
    "    print('Есть статистически значимые различия.')"
   ]
  },
  {
   "cell_type": "markdown",
   "id": "e2901f9f",
   "metadata": {},
   "source": [
    "Значение p_value получили значительно больше, чем в предыдущем анализе, и еще раз подтвердилось отсутствие статитстически значимых различий.\n",
    "\n",
    "**Посмотрим имеется ли разница в количестве пользователей в группах, которые совершили покупку:**"
   ]
  },
  {
   "cell_type": "code",
   "execution_count": 15,
   "id": "01cbd2ad",
   "metadata": {},
   "outputs": [
    {
     "name": "stdout",
     "output_type": "stream",
     "text": [
      "\n",
      "statistic=0.48, p_value=0.4879\n",
      "Нет статистически значимых различий. Не достаточно оснований для отклонения нулевой гипотезы\n"
     ]
    }
   ],
   "source": [
    "df = pd.read_excel('AB_Test_Results.xlsx')\n",
    "\n",
    "df_A = df[df['VARIANT_NAME'] == 'control']\n",
    "df_B = df[df['VARIANT_NAME'] == 'variant']\n",
    "\n",
    "m_A = df_A[df_A['REVENUE'] > 0].shape[0]\n",
    "m_B = df_B[df_B['REVENUE'] > 0].shape[0]\n",
    "\n",
    "n_A = df_A.shape[0]\n",
    "n_B = df_B.shape[0]\n",
    "\n",
    "from scipy.stats import chi2_contingency\n",
    "\n",
    "values = [[m_A, n_A - m_A], [m_B, n_B - m_B]]\n",
    "\n",
    "statistic, p_value, _, _ = chi2_contingency(values, correction=False)\n",
    "\n",
    "print(f'\\n{statistic=:.2f}, {p_value=:.4f}')\n",
    "\n",
    "if p_value > 0.05:\n",
    "    print('Нет статистически значимых различий. Не достаточно оснований для отклонения нулевой гипотезы')\n",
    "else:\n",
    "    print('Есть статистически значимые различия.')"
   ]
  },
  {
   "cell_type": "markdown",
   "id": "6753c034",
   "metadata": {},
   "source": [
    "**Таким образом, мы получили, что в обоих группах, как по конверсии, так и по доходу нет статистически значимых различий.**"
   ]
  },
  {
   "cell_type": "markdown",
   "id": "8d28337a",
   "metadata": {},
   "source": [
    "**Не учли наличие дубликатов, перерасчет:**"
   ]
  },
  {
   "cell_type": "code",
   "execution_count": 23,
   "id": "b0e823dc",
   "metadata": {},
   "outputs": [
    {
     "data": {
      "text/html": [
       "<div>\n",
       "<style scoped>\n",
       "    .dataframe tbody tr th:only-of-type {\n",
       "        vertical-align: middle;\n",
       "    }\n",
       "\n",
       "    .dataframe tbody tr th {\n",
       "        vertical-align: top;\n",
       "    }\n",
       "\n",
       "    .dataframe thead th {\n",
       "        text-align: right;\n",
       "    }\n",
       "</style>\n",
       "<table border=\"1\" class=\"dataframe\">\n",
       "  <thead>\n",
       "    <tr style=\"text-align: right;\">\n",
       "      <th></th>\n",
       "      <th>USER_ID</th>\n",
       "      <th>VARIANT_NAME</th>\n",
       "    </tr>\n",
       "  </thead>\n",
       "  <tbody>\n",
       "    <tr>\n",
       "      <th>0</th>\n",
       "      <td>2</td>\n",
       "      <td>1</td>\n",
       "    </tr>\n",
       "    <tr>\n",
       "      <th>1</th>\n",
       "      <td>3</td>\n",
       "      <td>2</td>\n",
       "    </tr>\n",
       "    <tr>\n",
       "      <th>2</th>\n",
       "      <td>4</td>\n",
       "      <td>1</td>\n",
       "    </tr>\n",
       "    <tr>\n",
       "      <th>3</th>\n",
       "      <td>5</td>\n",
       "      <td>1</td>\n",
       "    </tr>\n",
       "    <tr>\n",
       "      <th>4</th>\n",
       "      <td>6</td>\n",
       "      <td>1</td>\n",
       "    </tr>\n",
       "    <tr>\n",
       "      <th>...</th>\n",
       "      <td>...</td>\n",
       "      <td>...</td>\n",
       "    </tr>\n",
       "    <tr>\n",
       "      <th>6319</th>\n",
       "      <td>9993</td>\n",
       "      <td>1</td>\n",
       "    </tr>\n",
       "    <tr>\n",
       "      <th>6320</th>\n",
       "      <td>9995</td>\n",
       "      <td>1</td>\n",
       "    </tr>\n",
       "    <tr>\n",
       "      <th>6321</th>\n",
       "      <td>9996</td>\n",
       "      <td>2</td>\n",
       "    </tr>\n",
       "    <tr>\n",
       "      <th>6322</th>\n",
       "      <td>9998</td>\n",
       "      <td>1</td>\n",
       "    </tr>\n",
       "    <tr>\n",
       "      <th>6323</th>\n",
       "      <td>10000</td>\n",
       "      <td>2</td>\n",
       "    </tr>\n",
       "  </tbody>\n",
       "</table>\n",
       "<p>6324 rows × 2 columns</p>\n",
       "</div>"
      ],
      "text/plain": [
       "      USER_ID  VARIANT_NAME\n",
       "0           2             1\n",
       "1           3             2\n",
       "2           4             1\n",
       "3           5             1\n",
       "4           6             1\n",
       "...       ...           ...\n",
       "6319     9993             1\n",
       "6320     9995             1\n",
       "6321     9996             2\n",
       "6322     9998             1\n",
       "6323    10000             2\n",
       "\n",
       "[6324 rows x 2 columns]"
      ]
     },
     "execution_count": 23,
     "metadata": {},
     "output_type": "execute_result"
    }
   ],
   "source": [
    "df = pd.read_excel('AB_Test_Results.xlsx')\n",
    "double_user = df.groupby('USER_ID', as_index=False).agg({'VARIANT_NAME': pd.Series.nunique})\n",
    "double_user"
   ]
  },
  {
   "cell_type": "code",
   "execution_count": 24,
   "id": "e2c882f5",
   "metadata": {},
   "outputs": [
    {
     "data": {
      "text/html": [
       "<div>\n",
       "<style scoped>\n",
       "    .dataframe tbody tr th:only-of-type {\n",
       "        vertical-align: middle;\n",
       "    }\n",
       "\n",
       "    .dataframe tbody tr th {\n",
       "        vertical-align: top;\n",
       "    }\n",
       "\n",
       "    .dataframe thead th {\n",
       "        text-align: right;\n",
       "    }\n",
       "</style>\n",
       "<table border=\"1\" class=\"dataframe\">\n",
       "  <thead>\n",
       "    <tr style=\"text-align: right;\">\n",
       "      <th></th>\n",
       "      <th>USER_ID</th>\n",
       "      <th>VARIANT_NAME</th>\n",
       "    </tr>\n",
       "  </thead>\n",
       "  <tbody>\n",
       "    <tr>\n",
       "      <th>1</th>\n",
       "      <td>3</td>\n",
       "      <td>2</td>\n",
       "    </tr>\n",
       "    <tr>\n",
       "      <th>6</th>\n",
       "      <td>10</td>\n",
       "      <td>2</td>\n",
       "    </tr>\n",
       "    <tr>\n",
       "      <th>11</th>\n",
       "      <td>18</td>\n",
       "      <td>2</td>\n",
       "    </tr>\n",
       "    <tr>\n",
       "      <th>15</th>\n",
       "      <td>25</td>\n",
       "      <td>2</td>\n",
       "    </tr>\n",
       "    <tr>\n",
       "      <th>23</th>\n",
       "      <td>40</td>\n",
       "      <td>2</td>\n",
       "    </tr>\n",
       "    <tr>\n",
       "      <th>...</th>\n",
       "      <td>...</td>\n",
       "      <td>...</td>\n",
       "    </tr>\n",
       "    <tr>\n",
       "      <th>6310</th>\n",
       "      <td>9978</td>\n",
       "      <td>2</td>\n",
       "    </tr>\n",
       "    <tr>\n",
       "      <th>6311</th>\n",
       "      <td>9979</td>\n",
       "      <td>2</td>\n",
       "    </tr>\n",
       "    <tr>\n",
       "      <th>6313</th>\n",
       "      <td>9982</td>\n",
       "      <td>2</td>\n",
       "    </tr>\n",
       "    <tr>\n",
       "      <th>6321</th>\n",
       "      <td>9996</td>\n",
       "      <td>2</td>\n",
       "    </tr>\n",
       "    <tr>\n",
       "      <th>6323</th>\n",
       "      <td>10000</td>\n",
       "      <td>2</td>\n",
       "    </tr>\n",
       "  </tbody>\n",
       "</table>\n",
       "<p>1541 rows × 2 columns</p>\n",
       "</div>"
      ],
      "text/plain": [
       "      USER_ID  VARIANT_NAME\n",
       "1           3             2\n",
       "6          10             2\n",
       "11         18             2\n",
       "15         25             2\n",
       "23         40             2\n",
       "...       ...           ...\n",
       "6310     9978             2\n",
       "6311     9979             2\n",
       "6313     9982             2\n",
       "6321     9996             2\n",
       "6323    10000             2\n",
       "\n",
       "[1541 rows x 2 columns]"
      ]
     },
     "execution_count": 24,
     "metadata": {},
     "output_type": "execute_result"
    }
   ],
   "source": [
    "more_than_one_types = double_user.query('VARIANT_NAME > 1')\n",
    "more_than_one_types"
   ]
  },
  {
   "cell_type": "code",
   "execution_count": 25,
   "id": "dbbde7db",
   "metadata": {},
   "outputs": [
    {
     "data": {
      "text/plain": [
       "(6070, 3)"
      ]
     },
     "execution_count": 25,
     "metadata": {},
     "output_type": "execute_result"
    }
   ],
   "source": [
    "df_new = df[~df.USER_ID.isin(more_than_one_types.USER_ID)]\n",
    "df_new.shape"
   ]
  },
  {
   "cell_type": "code",
   "execution_count": 26,
   "id": "b0c31c22",
   "metadata": {},
   "outputs": [
    {
     "data": {
      "text/plain": [
       "((54, 3), (43, 3))"
      ]
     },
     "execution_count": 26,
     "metadata": {},
     "output_type": "execute_result"
    }
   ],
   "source": [
    "df_A = df_new[(df.VARIANT_NAME == 'control') & (df.REVENUE > 0)]\n",
    "df_B = df_new[(df.VARIANT_NAME == 'variant') & (df.REVENUE > 0)]\n",
    "df_A.shape, df_B.shape"
   ]
  },
  {
   "cell_type": "code",
   "execution_count": 27,
   "id": "203fdd30",
   "metadata": {},
   "outputs": [
    {
     "data": {
      "text/plain": [
       "<AxesSubplot:xlabel='VARIANT_NAME', ylabel='REVENUE'>"
      ]
     },
     "execution_count": 27,
     "metadata": {},
     "output_type": "execute_result"
    },
    {
     "data": {
      "image/png": "[encoded data removed]",
      "text/plain": [
       "<Figure size 640x480 with 1 Axes>"
      ]
     },
     "metadata": {},
     "output_type": "display_data"
    }
   ],
   "source": [
    "sns.boxplot(y=df_new.REVENUE, x=df_new.VARIANT_NAME, data=df_new)"
   ]
  },
  {
   "cell_type": "code",
   "execution_count": 28,
   "id": "048f576d",
   "metadata": {},
   "outputs": [
    {
     "data": {
      "image/png": "[encoded data removed]",
      "text/plain": [
       "<Figure size 1500x400 with 2 Axes>"
      ]
     },
     "metadata": {},
     "output_type": "display_data"
    }
   ],
   "source": [
    "fig, (ax_histplot, ay_histplot) = plt.subplots(1, 2, figsize=(15, 4))\n",
    "\n",
    "ax_histplot.set_title('Контрольная группа')\n",
    "ay_histplot.set_title('Тестовая группа')\n",
    "sns.histplot(df_A['REVENUE'], bins=50, color='r', ax=ax_histplot)\n",
    "sns.histplot(df_B['REVENUE'], bins=50, color='b', ax=ay_histplot);"
   ]
  },
  {
   "cell_type": "code",
   "execution_count": 48,
   "id": "cb2565ab",
   "metadata": {},
   "outputs": [
    {
     "data": {
      "image/png": "[encoded data removed]",
      "text/plain": [
       "<Figure size 1500x400 with 2 Axes>"
      ]
     },
     "metadata": {},
     "output_type": "display_data"
    }
   ],
   "source": [
    "df_A = df_A[df_A['REVENUE'] < df_A['REVENUE'].quantile(0.99)]\n",
    "\n",
    "fig, (ax_histplot, ay_histplot) = plt.subplots(1, 2, figsize=(15, 4))\n",
    "\n",
    "ax_histplot.set_title('Контрольная группа')\n",
    "ay_histplot.set_title('Тестовая группа')\n",
    "sns.histplot(df_A['REVENUE'], bins=30, color='r', ax=ax_histplot)\n",
    "sns.histplot(df_B['REVENUE'], bins=30, color='b', ax=ay_histplot);"
   ]
  },
  {
   "cell_type": "code",
   "execution_count": 42,
   "id": "32d76544",
   "metadata": {},
   "outputs": [
    {
     "data": {
      "text/plain": [
       "(1249.0, 0.4218148352342157)"
      ]
     },
     "execution_count": 42,
     "metadata": {},
     "output_type": "execute_result"
    }
   ],
   "source": [
    "stat, p_value = mannwhitneyu(df_A['REVENUE'].values, df_B['REVENUE'].values)\n",
    "stat, p_value"
   ]
  },
  {
   "cell_type": "code",
   "execution_count": 45,
   "id": "442d0c1e",
   "metadata": {},
   "outputs": [
    {
     "data": {
      "text/plain": [
       "(0.9098209997575365, 0.3652453861971733)"
      ]
     },
     "execution_count": 45,
     "metadata": {},
     "output_type": "execute_result"
    }
   ],
   "source": [
    "from scipy.stats import ttest_ind\n",
    "stat, p_value = ttest_ind(df_A['REVENUE'].values, df_B['REVENUE'].values, equal_var=False)\n",
    "stat, p_value"
   ]
  },
  {
   "cell_type": "code",
   "execution_count": 41,
   "id": "6ba8cab2",
   "metadata": {},
   "outputs": [
    {
     "data": {
      "text/plain": [
       "(4622832.0, 0.2444173738649208)"
      ]
     },
     "execution_count": 41,
     "metadata": {},
     "output_type": "execute_result"
    }
   ],
   "source": [
    "df_A_1 = df_new[df_new.VARIANT_NAME == 'control']\n",
    "df_B_1 = df_new[df_new.VARIANT_NAME == 'variant']\n",
    "\n",
    "stat, p_value = mannwhitneyu(df_A_1['REVENUE'].values, df_B_1['REVENUE'].values)\n",
    "stat, p_value"
   ]
  },
  {
   "cell_type": "code",
   "execution_count": 46,
   "id": "cac4a3fc",
   "metadata": {},
   "outputs": [
    {
     "data": {
      "text/plain": [
       "(1.403762252371675, 0.1604844017690842)"
      ]
     },
     "execution_count": 46,
     "metadata": {},
     "output_type": "execute_result"
    }
   ],
   "source": [
    "from scipy.stats import ttest_ind\n",
    "stat, p_value = ttest_ind(df_A_1['REVENUE'].values, df_B_1['REVENUE'].values, equal_var=False)\n",
    "stat, p_value"
   ]
  },
  {
   "cell_type": "code",
   "execution_count": 58,
   "id": "8280bb44",
   "metadata": {},
   "outputs": [
    {
     "data": {
      "text/plain": [
       "(0.289, 12053, 3026)"
      ]
     },
     "execution_count": 58,
     "metadata": {},
     "output_type": "execute_result"
    }
   ],
   "source": [
    "from statsmodels.stats.power import TTestIndPower\n",
    "\n",
    "C_mean = df_A_1.REVENUE.values.mean()\n",
    "\n",
    "T_mean = df_B_1.REVENUE.values.mean()\n",
    "\n",
    "\n",
    "C_std = df_A_1.REVENUE.values.std()\n",
    "\n",
    "T_std = df_B_1.REVENUE.values.std()\n",
    "\n",
    "n =  len(df_A_1.REVENUE.values)\n",
    "\n",
    "S = np.sqrt((T_std**2 + C_std **2)/ 2)\n",
    "ef = (T_mean-C_mean) / S\n",
    "\n",
    "alpha = 0.05\n",
    "pow_ = 0.80\n",
    "\n",
    "analysis = TTestIndPower()\n",
    "result_1 = analysis.solve_power(ef, power=None,\n",
    "nobs1=n, ratio=1.0, alpha=alpha)\n",
    "\n",
    "result_2 = analysis.solve_power(ef, power=pow_, ratio=1.0, alpha=alpha)\n",
    "\n",
    "round(result_1, 3), round(result_2), n"
   ]
  }
 ],
 "metadata": {
  "kernelspec": {
   "display_name": "Python 3 (ipykernel)",
   "language": "python",
   "name": "python3"
  },
  "language_info": {
   "codemirror_mode": {
    "name": "ipython",
    "version": 3
   },
   "file_extension": ".py",
   "mimetype": "text/x-python",
   "name": "python",
   "nbconvert_exporter": "python",
   "pygments_lexer": "ipython3",
   "version": "3.9.13"
  }
 },
 "nbformat": 4,
 "nbformat_minor": 5
}
