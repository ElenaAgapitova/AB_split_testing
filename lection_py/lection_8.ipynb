{
 "cells": [
  {
   "cell_type": "markdown",
   "id": "d18325eb",
   "metadata": {},
   "source": [
    "## A/B tests with Python"
   ]
  },
  {
   "cell_type": "code",
   "execution_count": 1,
   "id": "3030b877",
   "metadata": {},
   "outputs": [],
   "source": [
    "import warnings\n",
    "warnings.filterwarnings('ignore')"
   ]
  },
  {
   "cell_type": "code",
   "execution_count": 2,
   "id": "fa59c993",
   "metadata": {},
   "outputs": [],
   "source": [
    "import numpy as np\n",
    "import pandas as pd\n",
    "import matplotlib.pyplot as plt\n",
    "import seaborn as sns"
   ]
  },
  {
   "cell_type": "code",
   "execution_count": 23,
   "id": "0cf67db8",
   "metadata": {},
   "outputs": [
    {
     "name": "stdout",
     "output_type": "stream",
     "text": [
      "stat=0.688, p=0.028\n",
      "stat_1=0.688\n",
      "Значения коэффентов по модулю:\n",
      "- Величина корреляции от 0 до 0.19: очень слабая зависимость\n",
      "- Величина корреляции от 0.2 до 0.39: слабая зависимость\n",
      "- Величина корреляции от 0.4 до 0.59: умеренная зависимость\n",
      "- Величина корреляции от 0.6 до 0.79: достаточно сильная зависимость\n",
      "- Величина корреляции от 0.8 до 1: очень сильная зависимость\n"
     ]
    },
    {
     "data": {
      "image/png": "[encoded data removed]",
      "text/plain": [
       "<Figure size 640x480 with 1 Axes>"
      ]
     },
     "metadata": {},
     "output_type": "display_data"
    }
   ],
   "source": [
    "# Коэффициент корреляции и проверка гипотезы H0 - отсутствие корреляции\n",
    "\n",
    "from scipy.stats import pearsonr\n",
    "\n",
    "\n",
    "data1 = np.array([0.873, 2.817, 0.121, -0.945, -0.055, -1.436, 0.360, -1.478, -1.637, -1.869])\n",
    "data2 = np.array([0.353, 3.517, 0.125, -7.545, -0.555, -1.536, 3.350, -1.578, -3.537, -1.579])\n",
    "\n",
    "stat, p = pearsonr(data1, data2)\n",
    "stat_1 = np.corrcoef(data1, data2)[0,1]\n",
    "\n",
    "print(f'{stat=:.3f}, {p=:.3f}')\n",
    "print(f'{stat_1=:.3f}')\n",
    "\n",
    "if p > 0.05:\n",
    "    print('Отсутствие корреляции')\n",
    "else:\n",
    "    print('Значения коэффентов по модулю:\\n'\n",
    "    '- Величина корреляции от 0 до 0.19: очень слабая зависимость\\n' \\\n",
    "    '- Величина корреляции от 0.2 до 0.39: слабая зависимость\\n' \\\n",
    "    '- Величина корреляции от 0.4 до 0.59: умеренная зависимость\\n' \\\n",
    "    '- Величина корреляции от 0.6 до 0.79: достаточно сильная зависимость\\n' \\\n",
    "    '- Величина корреляции от 0.8 до 1: очень сильная зависимость')\n",
    "\n",
    "plt.scatter(data1, data2)\n",
    "plt.xlabel('data1')\n",
    "plt.ylabel('data2')\n",
    "plt.show();"
   ]
  },
  {
   "cell_type": "code",
   "execution_count": 4,
   "id": "a5af5bc7",
   "metadata": {},
   "outputs": [
    {
     "name": "stdout",
     "output_type": "stream",
     "text": [
      "R=0.4733, b0=-0.4060, b1=1.5159\n"
     ]
    },
    {
     "data": {
      "image/png": "[encoded data removed]",
      "text/plain": [
       "<Figure size 640x480 with 1 Axes>"
      ]
     },
     "metadata": {},
     "output_type": "display_data"
    }
   ],
   "source": [
    "from sklearn.linear_model import LinearRegression\n",
    "\n",
    "model = LinearRegression()\n",
    "model.fit(data1.reshape(len(data1), 1), data2)\n",
    "b0 = model.intercept_\n",
    "b1 = model.coef_[0]\n",
    "R = model.score(data1.reshape(len(data1),1), data2)\n",
    "\n",
    "print(f'{R=:.4f}, {b0=:.4f}, {b1=:.4f}')\n",
    "\n",
    "plt.scatter(data1, data2)\n",
    "plt.plot(data1, b0 + b1 * data1, color='r')\n",
    "plt.xlabel('data1')\n",
    "plt.ylabel('data2')\n",
    "plt.show();\n"
   ]
  },
  {
   "cell_type": "code",
   "execution_count": 5,
   "id": "3226d500",
   "metadata": {},
   "outputs": [
    {
     "name": "stdout",
     "output_type": "stream",
     "text": [
      "ShapiroResult(statistic=0.8419689536094666, pvalue=0.046585824340581894)\n"
     ]
    }
   ],
   "source": [
    "from scipy.stats import shapiro\n",
    "\n",
    "data2_pred = model.predict(data1.reshape(len(data1), 1))\n",
    "result = data2 - data2_pred\n",
    "print(shapiro(result))"
   ]
  },
  {
   "cell_type": "code",
   "execution_count": 6,
   "id": "b2d80a49",
   "metadata": {},
   "outputs": [
    {
     "data": {
      "text/plain": [
       "array([-0.56444422, -0.34743109,  0.34754247, -5.70646576, -0.06565214,\n",
       "        1.04686065,  3.21023287,  1.06853012, -0.64943546,  1.66026256])"
      ]
     },
     "execution_count": 6,
     "metadata": {},
     "output_type": "execute_result"
    }
   ],
   "source": [
    "result"
   ]
  },
  {
   "cell_type": "code",
   "execution_count": 7,
   "id": "f7b2b7e9",
   "metadata": {},
   "outputs": [
    {
     "data": {
      "text/html": [
       "<div>\n",
       "<style scoped>\n",
       "    .dataframe tbody tr th:only-of-type {\n",
       "        vertical-align: middle;\n",
       "    }\n",
       "\n",
       "    .dataframe tbody tr th {\n",
       "        vertical-align: top;\n",
       "    }\n",
       "\n",
       "    .dataframe thead th {\n",
       "        text-align: right;\n",
       "    }\n",
       "</style>\n",
       "<table border=\"1\" class=\"dataframe\">\n",
       "  <thead>\n",
       "    <tr style=\"text-align: right;\">\n",
       "      <th></th>\n",
       "      <th>revenue</th>\n",
       "      <th>num_purchases</th>\n",
       "      <th>purchase</th>\n",
       "      <th>ab_group</th>\n",
       "      <th>av_site visit</th>\n",
       "    </tr>\n",
       "  </thead>\n",
       "  <tbody>\n",
       "    <tr>\n",
       "      <th>3635</th>\n",
       "      <td>0.0</td>\n",
       "      <td>0</td>\n",
       "      <td>0</td>\n",
       "      <td>A</td>\n",
       "      <td>7.755249</td>\n",
       "    </tr>\n",
       "    <tr>\n",
       "      <th>23515</th>\n",
       "      <td>0.0</td>\n",
       "      <td>0</td>\n",
       "      <td>0</td>\n",
       "      <td>B</td>\n",
       "      <td>3.266525</td>\n",
       "    </tr>\n",
       "    <tr>\n",
       "      <th>4679</th>\n",
       "      <td>0.0</td>\n",
       "      <td>0</td>\n",
       "      <td>0</td>\n",
       "      <td>A</td>\n",
       "      <td>6.605243</td>\n",
       "    </tr>\n",
       "    <tr>\n",
       "      <th>19875</th>\n",
       "      <td>0.0</td>\n",
       "      <td>0</td>\n",
       "      <td>0</td>\n",
       "      <td>B</td>\n",
       "      <td>2.083454</td>\n",
       "    </tr>\n",
       "    <tr>\n",
       "      <th>15804</th>\n",
       "      <td>0.0</td>\n",
       "      <td>0</td>\n",
       "      <td>0</td>\n",
       "      <td>B</td>\n",
       "      <td>-2.432951</td>\n",
       "    </tr>\n",
       "    <tr>\n",
       "      <th>6535</th>\n",
       "      <td>0.0</td>\n",
       "      <td>0</td>\n",
       "      <td>0</td>\n",
       "      <td>A</td>\n",
       "      <td>7.036950</td>\n",
       "    </tr>\n",
       "    <tr>\n",
       "      <th>20485</th>\n",
       "      <td>0.0</td>\n",
       "      <td>0</td>\n",
       "      <td>0</td>\n",
       "      <td>B</td>\n",
       "      <td>8.039385</td>\n",
       "    </tr>\n",
       "    <tr>\n",
       "      <th>11207</th>\n",
       "      <td>0.0</td>\n",
       "      <td>0</td>\n",
       "      <td>0</td>\n",
       "      <td>A</td>\n",
       "      <td>10.758905</td>\n",
       "    </tr>\n",
       "    <tr>\n",
       "      <th>14604</th>\n",
       "      <td>0.0</td>\n",
       "      <td>0</td>\n",
       "      <td>0</td>\n",
       "      <td>B</td>\n",
       "      <td>6.403136</td>\n",
       "    </tr>\n",
       "    <tr>\n",
       "      <th>16942</th>\n",
       "      <td>0.0</td>\n",
       "      <td>0</td>\n",
       "      <td>0</td>\n",
       "      <td>B</td>\n",
       "      <td>5.054355</td>\n",
       "    </tr>\n",
       "  </tbody>\n",
       "</table>\n",
       "</div>"
      ],
      "text/plain": [
       "       revenue  num_purchases  purchase ab_group  av_site visit\n",
       "3635       0.0              0         0        A       7.755249\n",
       "23515      0.0              0         0        B       3.266525\n",
       "4679       0.0              0         0        A       6.605243\n",
       "19875      0.0              0         0        B       2.083454\n",
       "15804      0.0              0         0        B      -2.432951\n",
       "6535       0.0              0         0        A       7.036950\n",
       "20485      0.0              0         0        B       8.039385\n",
       "11207      0.0              0         0        A      10.758905\n",
       "14604      0.0              0         0        B       6.403136\n",
       "16942      0.0              0         0        B       5.054355"
      ]
     },
     "execution_count": 7,
     "metadata": {},
     "output_type": "execute_result"
    }
   ],
   "source": [
    "data = pd.read_csv('ab_stats.csv')\n",
    "data.sample(10)"
   ]
  },
  {
   "cell_type": "code",
   "execution_count": 42,
   "id": "80065c9b",
   "metadata": {},
   "outputs": [
    {
     "data": {
      "text/html": [
       "<div>\n",
       "<style scoped>\n",
       "    .dataframe tbody tr th:only-of-type {\n",
       "        vertical-align: middle;\n",
       "    }\n",
       "\n",
       "    .dataframe tbody tr th {\n",
       "        vertical-align: top;\n",
       "    }\n",
       "\n",
       "    .dataframe thead th {\n",
       "        text-align: right;\n",
       "    }\n",
       "</style>\n",
       "<table border=\"1\" class=\"dataframe\">\n",
       "  <thead>\n",
       "    <tr style=\"text-align: right;\">\n",
       "      <th></th>\n",
       "      <th>num_purchases</th>\n",
       "      <th>purchase</th>\n",
       "    </tr>\n",
       "  </thead>\n",
       "  <tbody>\n",
       "    <tr>\n",
       "      <th>num_purchases</th>\n",
       "      <td>1.000000</td>\n",
       "      <td>0.997486</td>\n",
       "    </tr>\n",
       "    <tr>\n",
       "      <th>purchase</th>\n",
       "      <td>0.997486</td>\n",
       "      <td>1.000000</td>\n",
       "    </tr>\n",
       "  </tbody>\n",
       "</table>\n",
       "</div>"
      ],
      "text/plain": [
       "               num_purchases  purchase\n",
       "num_purchases       1.000000  0.997486\n",
       "purchase            0.997486  1.000000"
      ]
     },
     "execution_count": 42,
     "metadata": {},
     "output_type": "execute_result"
    }
   ],
   "source": [
    "data[['num_purchases', 'purchase']].corr(method='kendall')"
   ]
  },
  {
   "cell_type": "code",
   "execution_count": 41,
   "id": "655e5cb6",
   "metadata": {},
   "outputs": [
    {
     "data": {
      "text/plain": [
       "<AxesSubplot:xlabel='num_purchases', ylabel='revenue'>"
      ]
     },
     "execution_count": 41,
     "metadata": {},
     "output_type": "execute_result"
    },
    {
     "data": {
      "image/png": "[encoded data removed]",
      "text/plain": [
       "<Figure size 640x480 with 1 Axes>"
      ]
     },
     "metadata": {},
     "output_type": "display_data"
    }
   ],
   "source": [
    "sns.scatterplot(data = data, x='num_purchases', y='revenue')"
   ]
  },
  {
   "cell_type": "code",
   "execution_count": 37,
   "id": "f9af817d",
   "metadata": {},
   "outputs": [
    {
     "data": {
      "text/plain": [
       "0"
      ]
     },
     "execution_count": 37,
     "metadata": {},
     "output_type": "execute_result"
    }
   ],
   "source": [
    "data[data['purchase']==1]['num_purchases'].isna().sum()"
   ]
  },
  {
   "cell_type": "code",
   "execution_count": 8,
   "id": "79db2f6e",
   "metadata": {},
   "outputs": [
    {
     "data": {
      "text/plain": [
       "(23652, 5)"
      ]
     },
     "execution_count": 8,
     "metadata": {},
     "output_type": "execute_result"
    }
   ],
   "source": [
    "data.shape"
   ]
  },
  {
   "cell_type": "code",
   "execution_count": 9,
   "id": "327854b3",
   "metadata": {},
   "outputs": [
    {
     "name": "stdout",
     "output_type": "stream",
     "text": [
      "<class 'pandas.core.frame.DataFrame'>\n",
      "RangeIndex: 23652 entries, 0 to 23651\n",
      "Data columns (total 5 columns):\n",
      " #   Column         Non-Null Count  Dtype  \n",
      "---  ------         --------------  -----  \n",
      " 0   revenue        23652 non-null  float64\n",
      " 1   num_purchases  23652 non-null  int64  \n",
      " 2   purchase       23652 non-null  int64  \n",
      " 3   ab_group       23652 non-null  object \n",
      " 4   av_site visit  23652 non-null  float64\n",
      "dtypes: float64(2), int64(2), object(1)\n",
      "memory usage: 924.0+ KB\n"
     ]
    }
   ],
   "source": [
    "data.info()"
   ]
  },
  {
   "cell_type": "code",
   "execution_count": 10,
   "id": "c3d827dd",
   "metadata": {},
   "outputs": [
    {
     "data": {
      "text/html": [
       "<div>\n",
       "<style scoped>\n",
       "    .dataframe tbody tr th:only-of-type {\n",
       "        vertical-align: middle;\n",
       "    }\n",
       "\n",
       "    .dataframe tbody tr th {\n",
       "        vertical-align: top;\n",
       "    }\n",
       "\n",
       "    .dataframe thead th {\n",
       "        text-align: right;\n",
       "    }\n",
       "</style>\n",
       "<table border=\"1\" class=\"dataframe\">\n",
       "  <thead>\n",
       "    <tr style=\"text-align: right;\">\n",
       "      <th></th>\n",
       "      <th>revenue</th>\n",
       "      <th>num_purchases</th>\n",
       "      <th>purchase</th>\n",
       "      <th>av_site visit</th>\n",
       "    </tr>\n",
       "  </thead>\n",
       "  <tbody>\n",
       "    <tr>\n",
       "      <th>count</th>\n",
       "      <td>23652.000000</td>\n",
       "      <td>23652.000000</td>\n",
       "      <td>23652.000000</td>\n",
       "      <td>23652.000000</td>\n",
       "    </tr>\n",
       "    <tr>\n",
       "      <th>mean</th>\n",
       "      <td>0.324689</td>\n",
       "      <td>0.043590</td>\n",
       "      <td>0.020717</td>\n",
       "      <td>7.013112</td>\n",
       "    </tr>\n",
       "    <tr>\n",
       "      <th>std</th>\n",
       "      <td>9.557730</td>\n",
       "      <td>1.079403</td>\n",
       "      <td>0.142438</td>\n",
       "      <td>3.154584</td>\n",
       "    </tr>\n",
       "    <tr>\n",
       "      <th>min</th>\n",
       "      <td>0.000000</td>\n",
       "      <td>0.000000</td>\n",
       "      <td>0.000000</td>\n",
       "      <td>-12.073486</td>\n",
       "    </tr>\n",
       "    <tr>\n",
       "      <th>25%</th>\n",
       "      <td>0.000000</td>\n",
       "      <td>0.000000</td>\n",
       "      <td>0.000000</td>\n",
       "      <td>5.173787</td>\n",
       "    </tr>\n",
       "    <tr>\n",
       "      <th>50%</th>\n",
       "      <td>0.000000</td>\n",
       "      <td>0.000000</td>\n",
       "      <td>0.000000</td>\n",
       "      <td>7.007936</td>\n",
       "    </tr>\n",
       "    <tr>\n",
       "      <th>75%</th>\n",
       "      <td>0.000000</td>\n",
       "      <td>0.000000</td>\n",
       "      <td>0.000000</td>\n",
       "      <td>8.864119</td>\n",
       "    </tr>\n",
       "    <tr>\n",
       "      <th>max</th>\n",
       "      <td>1303.609284</td>\n",
       "      <td>152.000000</td>\n",
       "      <td>1.000000</td>\n",
       "      <td>22.446822</td>\n",
       "    </tr>\n",
       "  </tbody>\n",
       "</table>\n",
       "</div>"
      ],
      "text/plain": [
       "            revenue  num_purchases      purchase  av_site visit\n",
       "count  23652.000000   23652.000000  23652.000000   23652.000000\n",
       "mean       0.324689       0.043590      0.020717       7.013112\n",
       "std        9.557730       1.079403      0.142438       3.154584\n",
       "min        0.000000       0.000000      0.000000     -12.073486\n",
       "25%        0.000000       0.000000      0.000000       5.173787\n",
       "50%        0.000000       0.000000      0.000000       7.007936\n",
       "75%        0.000000       0.000000      0.000000       8.864119\n",
       "max     1303.609284     152.000000      1.000000      22.446822"
      ]
     },
     "execution_count": 10,
     "metadata": {},
     "output_type": "execute_result"
    }
   ],
   "source": [
    "data.describe()"
   ]
  },
  {
   "cell_type": "code",
   "execution_count": 11,
   "id": "9951ce9c",
   "metadata": {},
   "outputs": [
    {
     "data": {
      "text/plain": [
       "revenue          0\n",
       "num_purchases    0\n",
       "purchase         0\n",
       "ab_group         0\n",
       "av_site visit    0\n",
       "dtype: int64"
      ]
     },
     "execution_count": 11,
     "metadata": {},
     "output_type": "execute_result"
    }
   ],
   "source": [
    "data.isna().sum()"
   ]
  },
  {
   "cell_type": "code",
   "execution_count": 12,
   "id": "1c6457fe",
   "metadata": {},
   "outputs": [
    {
     "data": {
      "text/plain": [
       "(11835, 11817)"
      ]
     },
     "execution_count": 12,
     "metadata": {},
     "output_type": "execute_result"
    }
   ],
   "source": [
    "n_A = data.ab_group.value_counts()[0]\n",
    "n_B = data.ab_group.value_counts()[1]\n",
    "n_A, n_B"
   ]
  },
  {
   "cell_type": "code",
   "execution_count": 13,
   "id": "14745170",
   "metadata": {},
   "outputs": [],
   "source": [
    "data_A = data[data['ab_group'] == 'A']\n",
    "data_B = data[data['ab_group'] == 'B']"
   ]
  },
  {
   "cell_type": "code",
   "execution_count": 14,
   "id": "194dc69a",
   "metadata": {},
   "outputs": [
    {
     "data": {
      "text/plain": [
       "(6.974724193166368, 7.051559066652976)"
      ]
     },
     "execution_count": 14,
     "metadata": {},
     "output_type": "execute_result"
    }
   ],
   "source": [
    "# визиты на юзера av_site visit\n",
    "\n",
    "data_A['av_site visit'].mean(), data_B['av_site visit'].mean()"
   ]
  },
  {
   "cell_type": "code",
   "execution_count": 15,
   "id": "a64ac9eb",
   "metadata": {},
   "outputs": [
    {
     "data": {
      "image/png": "[encoded data removed]",
      "text/plain": [
       "<Figure size 600x600 with 1 Axes>"
      ]
     },
     "metadata": {},
     "output_type": "display_data"
    }
   ],
   "source": [
    "plt.figure(figsize=(6, 6))\n",
    "sns.histplot(data_B['av_site visit'], color='r', label='test', bins=50)\n",
    "sns.histplot(data_A['av_site visit'], color='b', label='control', bins=50)\n",
    "plt.legend()\n",
    "plt.show();"
   ]
  },
  {
   "cell_type": "code",
   "execution_count": 55,
   "id": "1f288ed9",
   "metadata": {},
   "outputs": [
    {
     "name": "stdout",
     "output_type": "stream",
     "text": [
      "A_нормальность: stat=0.0085, p_value=0.3615\n",
      "B_нормальность: stat=0.0060, p_value=0.7862\n",
      "Гомогенность дисперсий: stat=5032.4985, p_value=0.0\n"
     ]
    }
   ],
   "source": [
    "from scipy.stats import shapiro, bartlett, kstest\n",
    "\n",
    "stat, p_value = kstest((data_A['av_site visit'] - data_A['av_site visit'].mean())/ data_A['av_site visit'].std(), 'norm')\n",
    "\n",
    "print(f'A_нормальность: {stat=:.4f}, {p_value=:.4f}')\n",
    "\n",
    "stat, p_value = kstest((data_B['av_site visit'] - data_B['av_site visit'].mean())/ data_B['av_site visit'].std(), 'norm')\n",
    "\n",
    "print(f'B_нормальность: {stat=:.4f}, {p_value=:.4f}')\n",
    "\n",
    "stat, p_value = bartlett(data_A['av_site visit'], data_B['av_site visit'])\n",
    "\n",
    "print(f'Гомогенность дисперсий: {stat=:.4f}, {p_value=}')\n",
    "\n"
   ]
  },
  {
   "cell_type": "code",
   "execution_count": 17,
   "id": "ba1fd301",
   "metadata": {},
   "outputs": [
    {
     "name": "stdout",
     "output_type": "stream",
     "text": [
      "p_value=0.061 - нет статистически значимых различий\n"
     ]
    }
   ],
   "source": [
    "from scipy.stats import ttest_ind\n",
    "\n",
    "p_value = ttest_ind(data_A['av_site visit'], data_B['av_site visit'])[1]\n",
    "\n",
    "if p_value > 0.05:\n",
    "    print(f'{p_value=:.3f} - нет статистически значимых различий')\n",
    "else:\n",
    "    print(f'{p_value=:.3f} - есть статистически значимых различий')"
   ]
  },
  {
   "cell_type": "code",
   "execution_count": 18,
   "id": "36eb41fb",
   "metadata": {},
   "outputs": [
    {
     "data": {
      "text/plain": [
       "(256, 234)"
      ]
     },
     "execution_count": 18,
     "metadata": {},
     "output_type": "execute_result"
    }
   ],
   "source": [
    "# Доля юзеров с покупкой\n",
    "\n",
    "m_A = data_A['purchase'].sum()\n",
    "m_B = data_B['purchase'].sum()\n",
    "m_A, m_B"
   ]
  },
  {
   "cell_type": "code",
   "execution_count": 19,
   "id": "ab495ef5",
   "metadata": {},
   "outputs": [
    {
     "name": "stdout",
     "output_type": "stream",
     "text": [
      "z_score=0.9873, z_pvalue=0.3235\n"
     ]
    }
   ],
   "source": [
    "# z-критерий\n",
    "\n",
    "from statsmodels.stats import proportion\n",
    "\n",
    "z_score, z_pvalue = proportion.proportions_ztest(np.array([m_A, m_B]), np.array([n_A, n_B]))\n",
    "\n",
    "print(f'{z_score=:.4f}, {z_pvalue=:.4f}')"
   ]
  },
  {
   "cell_type": "code",
   "execution_count": 20,
   "id": "52c38ff0",
   "metadata": {},
   "outputs": [
    {
     "name": "stdout",
     "output_type": "stream",
     "text": [
      "stat=0.9747, p_value=0.3235\n",
      "stat=0.9747, p_value=0.3235\n"
     ]
    }
   ],
   "source": [
    "# хи-квадрат\n",
    "\n",
    "stat, p_value, _ = proportion.proportions_chisquare(np.array([m_A, m_B]), np.array([n_A, n_B]))\n",
    "print(f'{stat=:.4f}, {p_value=:.4f}')\n",
    "\n",
    "\n",
    "from scipy.stats import chi2_contingency\n",
    "\n",
    "values = [[m_A, n_A - m_A], [m_B, n_B - m_B]]\n",
    "stat, p_value, _, _ = chi2_contingency(values, correction=False)\n",
    "print(f'{stat=:.4f}, {p_value=:.4f}')"
   ]
  },
  {
   "cell_type": "code",
   "execution_count": 21,
   "id": "72ff7715",
   "metadata": {},
   "outputs": [
    {
     "data": {
      "text/html": [
       "<div>\n",
       "<style scoped>\n",
       "    .dataframe tbody tr th:only-of-type {\n",
       "        vertical-align: middle;\n",
       "    }\n",
       "\n",
       "    .dataframe tbody tr th {\n",
       "        vertical-align: top;\n",
       "    }\n",
       "\n",
       "    .dataframe thead th {\n",
       "        text-align: right;\n",
       "    }\n",
       "</style>\n",
       "<table border=\"1\" class=\"dataframe\">\n",
       "  <thead>\n",
       "    <tr style=\"text-align: right;\">\n",
       "      <th></th>\n",
       "      <th>count</th>\n",
       "      <th>mean</th>\n",
       "      <th>std</th>\n",
       "      <th>min</th>\n",
       "      <th>25%</th>\n",
       "      <th>50%</th>\n",
       "      <th>75%</th>\n",
       "      <th>max</th>\n",
       "    </tr>\n",
       "    <tr>\n",
       "      <th>ab_group</th>\n",
       "      <th></th>\n",
       "      <th></th>\n",
       "      <th></th>\n",
       "      <th></th>\n",
       "      <th></th>\n",
       "      <th></th>\n",
       "      <th></th>\n",
       "      <th></th>\n",
       "    </tr>\n",
       "  </thead>\n",
       "  <tbody>\n",
       "    <tr>\n",
       "      <th>A</th>\n",
       "      <td>11835.0</td>\n",
       "      <td>0.404462</td>\n",
       "      <td>13.133218</td>\n",
       "      <td>0.0</td>\n",
       "      <td>0.0</td>\n",
       "      <td>0.0</td>\n",
       "      <td>0.0</td>\n",
       "      <td>1303.609284</td>\n",
       "    </tr>\n",
       "    <tr>\n",
       "      <th>B</th>\n",
       "      <td>11817.0</td>\n",
       "      <td>0.244794</td>\n",
       "      <td>3.176534</td>\n",
       "      <td>0.0</td>\n",
       "      <td>0.0</td>\n",
       "      <td>0.0</td>\n",
       "      <td>0.0</td>\n",
       "      <td>113.830000</td>\n",
       "    </tr>\n",
       "  </tbody>\n",
       "</table>\n",
       "</div>"
      ],
      "text/plain": [
       "            count      mean        std  min  25%  50%  75%          max\n",
       "ab_group                                                               \n",
       "A         11835.0  0.404462  13.133218  0.0  0.0  0.0  0.0  1303.609284\n",
       "B         11817.0  0.244794   3.176534  0.0  0.0  0.0  0.0   113.830000"
      ]
     },
     "execution_count": 21,
     "metadata": {},
     "output_type": "execute_result"
    }
   ],
   "source": [
    "data.groupby('ab_group')['revenue'].describe()"
   ]
  },
  {
   "cell_type": "code",
   "execution_count": 72,
   "id": "d36917a5",
   "metadata": {},
   "outputs": [
    {
     "name": "stdout",
     "output_type": "stream",
     "text": [
      "stat=29729.50, p_value=0.8872\n"
     ]
    }
   ],
   "source": [
    "# Метрика ARPU\n",
    "\n",
    "control = data_A[data['purchase'] == 1]['revenue'].values\n",
    "test = data_B[data['purchase'] == 1]['revenue'].values\n",
    "\n",
    "from scipy.stats import mannwhitneyu\n",
    "\n",
    "stat, p_value = mannwhitneyu(control, test)\n",
    "print(f'{stat=:.2f}, {p_value=:.4f}')"
   ]
  },
  {
   "cell_type": "code",
   "execution_count": 63,
   "id": "2ab672b6",
   "metadata": {},
   "outputs": [
    {
     "data": {
      "text/html": [
       "<div>\n",
       "<style scoped>\n",
       "    .dataframe tbody tr th:only-of-type {\n",
       "        vertical-align: middle;\n",
       "    }\n",
       "\n",
       "    .dataframe tbody tr th {\n",
       "        vertical-align: top;\n",
       "    }\n",
       "\n",
       "    .dataframe thead th {\n",
       "        text-align: right;\n",
       "    }\n",
       "</style>\n",
       "<table border=\"1\" class=\"dataframe\">\n",
       "  <thead>\n",
       "    <tr style=\"text-align: right;\">\n",
       "      <th></th>\n",
       "      <th>revenue</th>\n",
       "      <th>num_purchases</th>\n",
       "      <th>purchase</th>\n",
       "      <th>ab_group</th>\n",
       "      <th>av_site visit</th>\n",
       "    </tr>\n",
       "  </thead>\n",
       "  <tbody>\n",
       "    <tr>\n",
       "      <th>45</th>\n",
       "      <td>1.885595</td>\n",
       "      <td>1</td>\n",
       "      <td>1</td>\n",
       "      <td>A</td>\n",
       "      <td>7.654627</td>\n",
       "    </tr>\n",
       "    <tr>\n",
       "      <th>4441</th>\n",
       "      <td>1.990000</td>\n",
       "      <td>1</td>\n",
       "      <td>1</td>\n",
       "      <td>A</td>\n",
       "      <td>1.663958</td>\n",
       "    </tr>\n",
       "    <tr>\n",
       "      <th>10579</th>\n",
       "      <td>208.303751</td>\n",
       "      <td>7</td>\n",
       "      <td>1</td>\n",
       "      <td>A</td>\n",
       "      <td>4.656105</td>\n",
       "    </tr>\n",
       "    <tr>\n",
       "      <th>3704</th>\n",
       "      <td>64.987165</td>\n",
       "      <td>3</td>\n",
       "      <td>1</td>\n",
       "      <td>A</td>\n",
       "      <td>7.725263</td>\n",
       "    </tr>\n",
       "    <tr>\n",
       "      <th>9603</th>\n",
       "      <td>3.914447</td>\n",
       "      <td>1</td>\n",
       "      <td>1</td>\n",
       "      <td>A</td>\n",
       "      <td>7.290411</td>\n",
       "    </tr>\n",
       "    <tr>\n",
       "      <th>13698</th>\n",
       "      <td>29.990000</td>\n",
       "      <td>1</td>\n",
       "      <td>1</td>\n",
       "      <td>B</td>\n",
       "      <td>11.711102</td>\n",
       "    </tr>\n",
       "    <tr>\n",
       "      <th>17125</th>\n",
       "      <td>1.990000</td>\n",
       "      <td>1</td>\n",
       "      <td>1</td>\n",
       "      <td>B</td>\n",
       "      <td>6.438497</td>\n",
       "    </tr>\n",
       "    <tr>\n",
       "      <th>6512</th>\n",
       "      <td>5.393568</td>\n",
       "      <td>1</td>\n",
       "      <td>1</td>\n",
       "      <td>A</td>\n",
       "      <td>6.866563</td>\n",
       "    </tr>\n",
       "    <tr>\n",
       "      <th>17772</th>\n",
       "      <td>4.546720</td>\n",
       "      <td>1</td>\n",
       "      <td>1</td>\n",
       "      <td>B</td>\n",
       "      <td>10.776987</td>\n",
       "    </tr>\n",
       "    <tr>\n",
       "      <th>21740</th>\n",
       "      <td>16.351089</td>\n",
       "      <td>3</td>\n",
       "      <td>1</td>\n",
       "      <td>B</td>\n",
       "      <td>6.973962</td>\n",
       "    </tr>\n",
       "  </tbody>\n",
       "</table>\n",
       "</div>"
      ],
      "text/plain": [
       "          revenue  num_purchases  purchase ab_group  av_site visit\n",
       "45       1.885595              1         1        A       7.654627\n",
       "4441     1.990000              1         1        A       1.663958\n",
       "10579  208.303751              7         1        A       4.656105\n",
       "3704    64.987165              3         1        A       7.725263\n",
       "9603     3.914447              1         1        A       7.290411\n",
       "13698   29.990000              1         1        B      11.711102\n",
       "17125    1.990000              1         1        B       6.438497\n",
       "6512     5.393568              1         1        A       6.866563\n",
       "17772    4.546720              1         1        B      10.776987\n",
       "21740   16.351089              3         1        B       6.973962"
      ]
     },
     "execution_count": 63,
     "metadata": {},
     "output_type": "execute_result"
    }
   ],
   "source": [
    "df = data[data['purchase'] == 1]\n",
    "df.sample(10)"
   ]
  },
  {
   "cell_type": "code",
   "execution_count": 64,
   "id": "098c54eb",
   "metadata": {},
   "outputs": [
    {
     "data": {
      "text/plain": [
       "<AxesSubplot:xlabel='revenue', ylabel='Count'>"
      ]
     },
     "execution_count": 64,
     "metadata": {},
     "output_type": "execute_result"
    },
    {
     "data": {
      "image/png": "[encoded data removed]",
      "text/plain": [
       "<Figure size 640x480 with 1 Axes>"
      ]
     },
     "metadata": {},
     "output_type": "display_data"
    }
   ],
   "source": [
    "sns.histplot(df['revenue'], bins=150)"
   ]
  },
  {
   "cell_type": "code",
   "execution_count": 69,
   "id": "4ba8e4b7",
   "metadata": {},
   "outputs": [],
   "source": [
    "df97 = df[df['revenue'] < df['revenue'].quantile(0.975)]"
   ]
  },
  {
   "cell_type": "code",
   "execution_count": 71,
   "id": "198a7c45",
   "metadata": {},
   "outputs": [
    {
     "data": {
      "text/plain": [
       "<AxesSubplot:xlabel='revenue', ylabel='Count'>"
      ]
     },
     "execution_count": 71,
     "metadata": {},
     "output_type": "execute_result"
    },
    {
     "data": {
      "image/png": "[encoded data removed]",
      "text/plain": [
       "<Figure size 640x480 with 1 Axes>"
      ]
     },
     "metadata": {},
     "output_type": "display_data"
    }
   ],
   "source": [
    "sns.histplot(df97['revenue'], bins=50)"
   ]
  },
  {
   "cell_type": "code",
   "execution_count": 76,
   "id": "d02094bc",
   "metadata": {},
   "outputs": [
    {
     "name": "stdout",
     "output_type": "stream",
     "text": [
      "stat=27866.50, p_value=0.7249\n"
     ]
    }
   ],
   "source": [
    "df97_A = df97[df97['ab_group'] == 'A']\n",
    "df97_B = df97[df97['ab_group'] == 'B']\n",
    "control = df97_A[df97['purchase'] == 1]['revenue'].values\n",
    "test = df97_B[df97['purchase'] == 1]['revenue'].values\n",
    "\n",
    "from scipy.stats import mannwhitneyu\n",
    "\n",
    "stat, p_value = mannwhitneyu(control, test)\n",
    "print(f'{stat=:.2f}, {p_value=:.4f}')"
   ]
  },
  {
   "cell_type": "code",
   "execution_count": 81,
   "id": "4e62e915",
   "metadata": {},
   "outputs": [
    {
     "data": {
      "text/plain": [
       "(248, 256, 229, 234)"
      ]
     },
     "execution_count": 81,
     "metadata": {},
     "output_type": "execute_result"
    }
   ],
   "source": [
    "df97_A.shape[0], m_A, df97_B.shape[0], m_B"
   ]
  }
 ],
 "metadata": {
  "kernelspec": {
   "display_name": "Python 3 (ipykernel)",
   "language": "python",
   "name": "python3"
  },
  "language_info": {
   "codemirror_mode": {
    "name": "ipython",
    "version": 3
   },
   "file_extension": ".py",
   "mimetype": "text/x-python",
   "name": "python",
   "nbconvert_exporter": "python",
   "pygments_lexer": "ipython3",
   "version": "3.9.13"
  }
 },
 "nbformat": 4,
 "nbformat_minor": 5
}
