{
 "cells": [
  {
   "cell_type": "markdown",
   "id": "35584b21",
   "metadata": {},
   "source": [
    "### Практическое задание №6\n",
    "\n",
    "#### Задача №1\n",
    "\n",
    "Продакт на главной mail.ru решил протестировать в рекомендательной ленте контента вместо карточек со статьями видеоплеер с короткими видео. Нынешний таймспент на юзера в день в среднем равен 25 минут, а стандартная ошибка (SD) равна 156. Мы предполагаем, что в новой версии таймспент на юзера в день изменится на 10%. Средний трафик 20000 человек в день. Посчитайте сколько дней необходимо держать эксперимент при alpha = 5% и beta = 20%.\n",
    "\n",
    "**Рассчитаем размер выборки:**\n",
    "\n",
    "![size](size1.jpg)"
   ]
  },
  {
   "cell_type": "code",
   "execution_count": 13,
   "id": "33b649ba",
   "metadata": {},
   "outputs": [
    {
     "name": "stdout",
     "output_type": "stream",
     "text": [
      "Необходимо 4 дня.\n"
     ]
    }
   ],
   "source": [
    "size_n = 77_858\n",
    "size_day = 20_000\n",
    "days = round(size_n/size_day)\n",
    "print(f'Необходимо {days} дня.')"
   ]
  },
  {
   "cell_type": "markdown",
   "id": "db28e820",
   "metadata": {},
   "source": [
    "#### Задача №2\n",
    "\n",
    "Наша продуктовая команда в ecommerce магазине планирует запустить тест, направленный на ускорение загрузки сайта. Одна из основных метрик bounce rate в GA = 40%. Мы предполагаем, что при оптимизации сайта она изменится минимум на 20%.Средний трафик 4000 человек в день. Посчитайте сколько нам нужно дней держать эксперимент при alpha = 5% и beta = 20%\n",
    "\n",
    "![size2](size2.jpg)\n",
    "\n",
    "\n",
    "\n",
    "**Необходим 1 день**"
   ]
  }
 ],
 "metadata": {
  "kernelspec": {
   "display_name": "Python 3 (ipykernel)",
   "language": "python",
   "name": "python3"
  },
  "language_info": {
   "codemirror_mode": {
    "name": "ipython",
    "version": 3
   },
   "file_extension": ".py",
   "mimetype": "text/x-python",
   "name": "python",
   "nbconvert_exporter": "python",
   "pygments_lexer": "ipython3",
   "version": "3.9.13"
  }
 },
 "nbformat": 4,
 "nbformat_minor": 5
}
