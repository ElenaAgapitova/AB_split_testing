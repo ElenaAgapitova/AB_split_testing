{
 "cells": [
  {
   "cell_type": "markdown",
   "id": "35584b21",
   "metadata": {},
   "source": [
    "### Практическое задание №6\n",
    "\n",
    "#### Задача №1\n",
    "\n",
    "Продакт на главной mail.ru решил протестировать в рекомендательной ленте контента вместо карточек со статьями видеоплеер с короткими видео. Нынешний таймспент на юзера в день в среднем равен 25 минут, а стандартная ошибка (SD) равна 156. Мы предполагаем, что в новой версии таймспент на юзера в день изменится на 10%. Средний трафик 20000 человек в день. Посчитайте сколько дней необходимо держать эксперимент при alpha = 5% и beta = 20%.\n",
    "\n",
    "**Рассчитаем размер выборки:**\n",
    "\n",
    "![size](size1.jpg)"
   ]
  },
  {
   "cell_type": "code",
   "execution_count": 12,
   "id": "33b649ba",
   "metadata": {},
   "outputs": [
    {
     "name": "stdout",
     "output_type": "stream",
     "text": [
      "Необходимо: 8 дней.\n"
     ]
    }
   ],
   "source": [
    "import math\n",
    "size_n = 77_858 * 2\n",
    "size_day = 20_000\n",
    "days = math.ceil(size_n/size_day)\n",
    "print(f'Необходимо: {days} дней.')"
   ]
  },
  {
   "cell_type": "markdown",
   "id": "db28e820",
   "metadata": {},
   "source": [
    "#### Задача №2\n",
    "\n",
    "Наша продуктовая команда в ecommerce магазине планирует запустить тест, направленный на ускорение загрузки сайта. Одна из основных метрик bounce rate в GA = 40%. Мы предполагаем, что при оптимизации сайта она изменится минимум на 20%. Средний трафик 4000 человек в день. Посчитайте сколько нам нужно дней держать эксперимент при alpha = 5% и beta = 20%\n",
    "\n",
    "<img src=\"size2n.jpg\" width=\"700\" height=\"500\">"
   ]
  },
  {
   "cell_type": "code",
   "execution_count": 11,
   "id": "26c27762",
   "metadata": {},
   "outputs": [
    {
     "name": "stdout",
     "output_type": "stream",
     "text": [
      "Необходимо: 1 день.\n"
     ]
    }
   ],
   "source": [
    "import math\n",
    "size_n = 94 * 2\n",
    "size_day = 4000\n",
    "days = math.ceil(size_n/size_day)\n",
    "print(f'Необходимо: {days} день.')"
   ]
  }
 ],
 "metadata": {
  "kernelspec": {
   "display_name": "Python 3 (ipykernel)",
   "language": "python",
   "name": "python3"
  },
  "language_info": {
   "codemirror_mode": {
    "name": "ipython",
    "version": 3
   },
   "file_extension": ".py",
   "mimetype": "text/x-python",
   "name": "python",
   "nbconvert_exporter": "python",
   "pygments_lexer": "ipython3",
   "version": "3.9.13"
  }
 },
 "nbformat": 4,
 "nbformat_minor": 5
}
