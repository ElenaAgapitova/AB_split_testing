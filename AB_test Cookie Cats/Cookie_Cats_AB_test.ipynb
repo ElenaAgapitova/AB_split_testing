{
 "cells": [
  {
   "cell_type": "markdown",
   "id": "a2e0c4d6",
   "metadata": {},
   "source": [
    "## Cookie Cats и цель проекта\n",
    "\n",
    "**Cookie Cats** — чрезвычайно популярная мобильная игра-головоломка, разработанная Tactile Entertainment. Это классическая игра-головоломка в стиле «соедини три», в которой игрок должен соединять плитки одного цвета, чтобы очистить игровое поле и выиграть уровень.\n",
    "\n",
    "<img src=\"maxresdefault.jpg\" width=\"500\" height=\"300\">\n",
    "\n",
    "По мере прохождения уровней игры игроки время от времени сталкиваются с воротами, которые заставляют их ждать нетривиальное количество времени или совершать покупки в приложении для продвижения. Помимо стимулирования покупок в приложении, эти ворота служат важной цели: дать игрокам вынужденный перерыв в игре, что, как мы надеемся, приведет к увеличению и продлению удовольствия игрока от игры.\n",
    "\n",
    "<img src=\"cc_gates.png\" width=\"500\" height=\"300\">\n",
    "\n",
    "**Но где должны быть расположены ворота?** Изначально первые ворота были размещены на уровне 30, но в этом эксперименте мы собираемся проанализировать AB-тест, в котором мы переместили первые ворота в Cookie Cats с уровня 30 на уровень 40. В частности, мы рассмотрим влияние на удержание игроков. Но прежде чем мы доберемся до этого, ключевым шагом перед проведением любого анализа является понимание данных.\n",
    "\n",
    "## Набор данных и переменные\n",
    "\n",
    "У нас есть данные о 90 189 игроках, которые установили игру во время проведения AB-теста. \n",
    "\n",
    "* userid — уникальный номер, идентифицирующий каждого игрока.\n",
    "\n",
    "* version - попал ли игрок в контрольную группу (gate_30 - ворота 30 уровня) или группу с перенесенными воротами (gate_40 - ворота 40 уровня).\n",
    "\n",
    "* sum_gamerounds — количество игровых раундов, сыгранных игроком в течение первых 14 дней после установки.\n",
    "\n",
    "* retention_1 - вернулся ли игрок и играл через 1 день после установки?\n",
    "\n",
    "* retention_7 -  вернулся ли игрок и играл через 7 дней после установки?\n",
    "\n",
    "Когда игрок устанавливал игру, ему или ей случайным образом присваивались gate_30 или gate_40.\n"
   ]
  },
  {
   "cell_type": "code",
   "execution_count": 33,
   "id": "922de60e",
   "metadata": {},
   "outputs": [],
   "source": [
    "from scipy.stats import chi2_contingency, mannwhitneyu, ttest_ind\n",
    "from statsmodels.stats.power import TTestIndPower\n",
    "import numpy as np\n",
    "import pandas as pd\n",
    "import seaborn as sns\n",
    "\n",
    "\n",
    "from matplotlib import pyplot as plt\n",
    "\n",
    "import bootstrapped.bootstrap as bs\n",
    "import bootstrapped.compare_functions as bs_compare\n",
    "import bootstrapped.stats_functions as bs_stats\n",
    "\n",
    "import warnings\n",
    "warnings.filterwarnings('ignore')\n",
    "warnings.warn('DelftStack')\n",
    "warnings.warn('Do not show this message')"
   ]
  },
  {
   "cell_type": "code",
   "execution_count": 2,
   "id": "8df6ff5f",
   "metadata": {},
   "outputs": [
    {
     "data": {
      "text/html": [
       "<div>\n",
       "<style scoped>\n",
       "    .dataframe tbody tr th:only-of-type {\n",
       "        vertical-align: middle;\n",
       "    }\n",
       "\n",
       "    .dataframe tbody tr th {\n",
       "        vertical-align: top;\n",
       "    }\n",
       "\n",
       "    .dataframe thead th {\n",
       "        text-align: right;\n",
       "    }\n",
       "</style>\n",
       "<table border=\"1\" class=\"dataframe\">\n",
       "  <thead>\n",
       "    <tr style=\"text-align: right;\">\n",
       "      <th></th>\n",
       "      <th>userid</th>\n",
       "      <th>version</th>\n",
       "      <th>sum_gamerounds</th>\n",
       "      <th>retention_1</th>\n",
       "      <th>retention_7</th>\n",
       "    </tr>\n",
       "  </thead>\n",
       "  <tbody>\n",
       "    <tr>\n",
       "      <th>77567</th>\n",
       "      <td>8588513</td>\n",
       "      <td>gate_40</td>\n",
       "      <td>374</td>\n",
       "      <td>1</td>\n",
       "      <td>1</td>\n",
       "    </tr>\n",
       "    <tr>\n",
       "      <th>72333</th>\n",
       "      <td>8013030</td>\n",
       "      <td>gate_40</td>\n",
       "      <td>110</td>\n",
       "      <td>1</td>\n",
       "      <td>0</td>\n",
       "    </tr>\n",
       "    <tr>\n",
       "      <th>40311</th>\n",
       "      <td>4459695</td>\n",
       "      <td>gate_30</td>\n",
       "      <td>19</td>\n",
       "      <td>1</td>\n",
       "      <td>0</td>\n",
       "    </tr>\n",
       "    <tr>\n",
       "      <th>80958</th>\n",
       "      <td>8966101</td>\n",
       "      <td>gate_30</td>\n",
       "      <td>140</td>\n",
       "      <td>1</td>\n",
       "      <td>1</td>\n",
       "    </tr>\n",
       "    <tr>\n",
       "      <th>79580</th>\n",
       "      <td>8810689</td>\n",
       "      <td>gate_30</td>\n",
       "      <td>2</td>\n",
       "      <td>0</td>\n",
       "      <td>0</td>\n",
       "    </tr>\n",
       "    <tr>\n",
       "      <th>53201</th>\n",
       "      <td>5906584</td>\n",
       "      <td>gate_40</td>\n",
       "      <td>66</td>\n",
       "      <td>0</td>\n",
       "      <td>0</td>\n",
       "    </tr>\n",
       "    <tr>\n",
       "      <th>55381</th>\n",
       "      <td>6141533</td>\n",
       "      <td>gate_30</td>\n",
       "      <td>29</td>\n",
       "      <td>1</td>\n",
       "      <td>0</td>\n",
       "    </tr>\n",
       "    <tr>\n",
       "      <th>81922</th>\n",
       "      <td>9077866</td>\n",
       "      <td>gate_40</td>\n",
       "      <td>2</td>\n",
       "      <td>0</td>\n",
       "      <td>0</td>\n",
       "    </tr>\n",
       "    <tr>\n",
       "      <th>79292</th>\n",
       "      <td>8778695</td>\n",
       "      <td>gate_30</td>\n",
       "      <td>174</td>\n",
       "      <td>1</td>\n",
       "      <td>1</td>\n",
       "    </tr>\n",
       "    <tr>\n",
       "      <th>15576</th>\n",
       "      <td>1730030</td>\n",
       "      <td>gate_30</td>\n",
       "      <td>48</td>\n",
       "      <td>0</td>\n",
       "      <td>1</td>\n",
       "    </tr>\n",
       "  </tbody>\n",
       "</table>\n",
       "</div>"
      ],
      "text/plain": [
       "        userid  version  sum_gamerounds  retention_1  retention_7\n",
       "77567  8588513  gate_40             374            1            1\n",
       "72333  8013030  gate_40             110            1            0\n",
       "40311  4459695  gate_30              19            1            0\n",
       "80958  8966101  gate_30             140            1            1\n",
       "79580  8810689  gate_30               2            0            0\n",
       "53201  5906584  gate_40              66            0            0\n",
       "55381  6141533  gate_30              29            1            0\n",
       "81922  9077866  gate_40               2            0            0\n",
       "79292  8778695  gate_30             174            1            1\n",
       "15576  1730030  gate_30              48            0            1"
      ]
     },
     "execution_count": 2,
     "metadata": {},
     "output_type": "execute_result"
    }
   ],
   "source": [
    "df = pd.read_csv('result_cookie_cats.csv')\n",
    "df.sample(10)"
   ]
  },
  {
   "cell_type": "code",
   "execution_count": 3,
   "id": "c2f02622",
   "metadata": {},
   "outputs": [
    {
     "data": {
      "text/plain": [
       "90189"
      ]
     },
     "execution_count": 3,
     "metadata": {},
     "output_type": "execute_result"
    }
   ],
   "source": [
    "df.shape[0] # количество наблюдений"
   ]
  },
  {
   "cell_type": "code",
   "execution_count": 4,
   "id": "3d69ea66",
   "metadata": {},
   "outputs": [
    {
     "data": {
      "text/plain": [
       "90189"
      ]
     },
     "execution_count": 4,
     "metadata": {},
     "output_type": "execute_result"
    }
   ],
   "source": [
    "df.userid.nunique() # количество уникальных игроков"
   ]
  },
  {
   "cell_type": "code",
   "execution_count": 5,
   "id": "c630e9f6",
   "metadata": {},
   "outputs": [],
   "source": [
    "df_group = df.groupby(['version'], as_index=False)[['userid']].nunique()"
   ]
  },
  {
   "cell_type": "code",
   "execution_count": 6,
   "id": "21bd734f",
   "metadata": {},
   "outputs": [
    {
     "data": {
      "image/png": "[encoded data removed]",
      "text/plain": [
       "<Figure size 640x480 with 1 Axes>"
      ]
     },
     "metadata": {},
     "output_type": "display_data"
    },
    {
     "data": {
      "text/html": [
       "<div>\n",
       "<style scoped>\n",
       "    .dataframe tbody tr th:only-of-type {\n",
       "        vertical-align: middle;\n",
       "    }\n",
       "\n",
       "    .dataframe tbody tr th {\n",
       "        vertical-align: top;\n",
       "    }\n",
       "\n",
       "    .dataframe thead th {\n",
       "        text-align: right;\n",
       "    }\n",
       "</style>\n",
       "<table border=\"1\" class=\"dataframe\">\n",
       "  <thead>\n",
       "    <tr style=\"text-align: right;\">\n",
       "      <th></th>\n",
       "      <th>version</th>\n",
       "      <th>userid</th>\n",
       "    </tr>\n",
       "  </thead>\n",
       "  <tbody>\n",
       "    <tr>\n",
       "      <th>0</th>\n",
       "      <td>gate_30</td>\n",
       "      <td>44700</td>\n",
       "    </tr>\n",
       "    <tr>\n",
       "      <th>1</th>\n",
       "      <td>gate_40</td>\n",
       "      <td>45489</td>\n",
       "    </tr>\n",
       "  </tbody>\n",
       "</table>\n",
       "</div>"
      ],
      "text/plain": [
       "   version  userid\n",
       "0  gate_30   44700\n",
       "1  gate_40   45489"
      ]
     },
     "execution_count": 6,
     "metadata": {},
     "output_type": "execute_result"
    }
   ],
   "source": [
    "color = sns.color_palette('pastel')[2:4]\n",
    "plt.pie(df_group.userid, labels=df_group.version, colors=color, autopct='%.1f%%')\n",
    "plt.show();\n",
    "df_group"
   ]
  },
  {
   "cell_type": "markdown",
   "id": "a05b5cb1",
   "metadata": {},
   "source": [
    "**В данных нет дубликатов и в каждой группе примерно равное количество игроков**"
   ]
  },
  {
   "cell_type": "markdown",
   "id": "67d4869b",
   "metadata": {},
   "source": [
    "Посмотрим, как вели себя игроки после установки игры:"
   ]
  },
  {
   "cell_type": "code",
   "execution_count": 7,
   "id": "639ec1cc",
   "metadata": {},
   "outputs": [
    {
     "data": {
      "image/png": "[encoded data removed]",
      "text/plain": [
       "<Figure size 1000x400 with 2 Axes>"
      ]
     },
     "metadata": {},
     "output_type": "display_data"
    }
   ],
   "source": [
    "behavior_users = df.groupby(['sum_gamerounds'])['userid'].count()\n",
    "\n",
    "fig, (ax_plot, ay_plot) = plt.subplots(1, 2, figsize=(10, 4))\n",
    "\n",
    "ax_plot.set_title('Количество игроков по сумме раундов')\n",
    "behavior_users.plot(ax=ax_plot)\n",
    "ax_plot.set_xlabel('Сумма раундов')\n",
    "ax_plot.set_ylabel('Количество игроков')\n",
    "\n",
    "ay_plot.set_title('Количество игроков по сумме раундов до 100')\n",
    "behavior_users.head(100).plot(ax=ay_plot)\n",
    "ay_plot.set_xlabel('Сумма раундов')\n",
    "ay_plot.set_ylabel('Количество игроков')\n",
    "\n",
    "plt.tight_layout()\n",
    "plt.show();"
   ]
  },
  {
   "cell_type": "markdown",
   "id": "f7e7d564",
   "metadata": {},
   "source": [
    "Из графика очевидно, что много игроков установили игру, но так и не играли. Рассчитаем их количество:"
   ]
  },
  {
   "cell_type": "code",
   "execution_count": 8,
   "id": "1706536b",
   "metadata": {},
   "outputs": [
    {
     "data": {
      "text/plain": [
       "3994"
      ]
     },
     "execution_count": 8,
     "metadata": {},
     "output_type": "execute_result"
    }
   ],
   "source": [
    "df[df.sum_gamerounds == 0]['userid'].count()"
   ]
  },
  {
   "cell_type": "markdown",
   "id": "c575ff1a",
   "metadata": {},
   "source": [
    "Рассмотрим метрику по сумме раундов более детально (описательную статистику и boxplot)"
   ]
  },
  {
   "cell_type": "code",
   "execution_count": 9,
   "id": "4e059ac9",
   "metadata": {},
   "outputs": [
    {
     "data": {
      "text/plain": [
       "count    90189.000000\n",
       "mean        51.872457\n",
       "std        195.050858\n",
       "min          0.000000\n",
       "25%          5.000000\n",
       "50%         16.000000\n",
       "75%         51.000000\n",
       "max      49854.000000\n",
       "Name: sum_gamerounds, dtype: float64"
      ]
     },
     "execution_count": 9,
     "metadata": {},
     "output_type": "execute_result"
    }
   ],
   "source": [
    "df.sum_gamerounds.describe()"
   ]
  },
  {
   "cell_type": "code",
   "execution_count": 10,
   "id": "8dcbe57c",
   "metadata": {},
   "outputs": [
    {
     "data": {
      "image/png": "[encoded data removed]",
      "text/plain": [
       "<Figure size 640x480 with 1 Axes>"
      ]
     },
     "metadata": {},
     "output_type": "display_data"
    }
   ],
   "source": [
    "sns.boxplot(data=df, x='sum_gamerounds', y='version');"
   ]
  },
  {
   "cell_type": "markdown",
   "id": "8c372fa2",
   "metadata": {},
   "source": [
    "В группе gate_30 есть существенный выброс."
   ]
  },
  {
   "cell_type": "code",
   "execution_count": 11,
   "id": "ddd47957",
   "metadata": {},
   "outputs": [
    {
     "data": {
      "text/html": [
       "<div>\n",
       "<style scoped>\n",
       "    .dataframe tbody tr th:only-of-type {\n",
       "        vertical-align: middle;\n",
       "    }\n",
       "\n",
       "    .dataframe tbody tr th {\n",
       "        vertical-align: top;\n",
       "    }\n",
       "\n",
       "    .dataframe thead th {\n",
       "        text-align: right;\n",
       "    }\n",
       "</style>\n",
       "<table border=\"1\" class=\"dataframe\">\n",
       "  <thead>\n",
       "    <tr style=\"text-align: right;\">\n",
       "      <th></th>\n",
       "      <th>userid</th>\n",
       "      <th>version</th>\n",
       "      <th>sum_gamerounds</th>\n",
       "      <th>retention_1</th>\n",
       "      <th>retention_7</th>\n",
       "    </tr>\n",
       "  </thead>\n",
       "  <tbody>\n",
       "    <tr>\n",
       "      <th>57702</th>\n",
       "      <td>6390605</td>\n",
       "      <td>gate_30</td>\n",
       "      <td>49854</td>\n",
       "      <td>0</td>\n",
       "      <td>1</td>\n",
       "    </tr>\n",
       "  </tbody>\n",
       "</table>\n",
       "</div>"
      ],
      "text/plain": [
       "        userid  version  sum_gamerounds  retention_1  retention_7\n",
       "57702  6390605  gate_30           49854            0            1"
      ]
     },
     "execution_count": 11,
     "metadata": {},
     "output_type": "execute_result"
    }
   ],
   "source": [
    "df[df.sum_gamerounds == max(df.sum_gamerounds)]"
   ]
  },
  {
   "cell_type": "markdown",
   "id": "cade7ca0",
   "metadata": {},
   "source": [
    "Предположительно в данных есть ошибка, так как у нас всего один игрок, который сыграл такое количесво раундов в течении 7 дней. Исключим из данных этого пользователя."
   ]
  },
  {
   "cell_type": "code",
   "execution_count": 12,
   "id": "02014f47",
   "metadata": {},
   "outputs": [
    {
     "data": {
      "image/png": "[encoded data removed]",
      "text/plain": [
       "<Figure size 640x480 with 1 Axes>"
      ]
     },
     "metadata": {},
     "output_type": "display_data"
    }
   ],
   "source": [
    "df_clean = df.loc[df.sum_gamerounds != max(df.sum_gamerounds)]\n",
    "sns.boxplot(data=df_clean, x='sum_gamerounds', y='version');"
   ]
  },
  {
   "cell_type": "markdown",
   "id": "567c1b2f",
   "metadata": {},
   "source": [
    "График боксплот стал более наглядный, выбросов по прежнему очень много, так как 75% пользователей играли не более 51 раунда."
   ]
  },
  {
   "cell_type": "code",
   "execution_count": 13,
   "id": "ac55e522",
   "metadata": {},
   "outputs": [
    {
     "data": {
      "text/html": [
       "<div>\n",
       "<style scoped>\n",
       "    .dataframe tbody tr th:only-of-type {\n",
       "        vertical-align: middle;\n",
       "    }\n",
       "\n",
       "    .dataframe tbody tr th {\n",
       "        vertical-align: top;\n",
       "    }\n",
       "\n",
       "    .dataframe thead th {\n",
       "        text-align: right;\n",
       "    }\n",
       "</style>\n",
       "<table border=\"1\" class=\"dataframe\">\n",
       "  <thead>\n",
       "    <tr style=\"text-align: right;\">\n",
       "      <th></th>\n",
       "      <th>userid</th>\n",
       "      <th>version</th>\n",
       "      <th>sum_gamerounds</th>\n",
       "      <th>retention_1</th>\n",
       "      <th>retention_7</th>\n",
       "    </tr>\n",
       "  </thead>\n",
       "  <tbody>\n",
       "    <tr>\n",
       "      <th>70811</th>\n",
       "      <td>7852158</td>\n",
       "      <td>gate_30</td>\n",
       "      <td>13</td>\n",
       "      <td>0</td>\n",
       "      <td>0</td>\n",
       "    </tr>\n",
       "    <tr>\n",
       "      <th>53948</th>\n",
       "      <td>5987893</td>\n",
       "      <td>gate_30</td>\n",
       "      <td>13</td>\n",
       "      <td>0</td>\n",
       "      <td>0</td>\n",
       "    </tr>\n",
       "    <tr>\n",
       "      <th>798</th>\n",
       "      <td>88235</td>\n",
       "      <td>gate_40</td>\n",
       "      <td>11</td>\n",
       "      <td>0</td>\n",
       "      <td>0</td>\n",
       "    </tr>\n",
       "    <tr>\n",
       "      <th>83452</th>\n",
       "      <td>9247696</td>\n",
       "      <td>gate_40</td>\n",
       "      <td>8</td>\n",
       "      <td>0</td>\n",
       "      <td>1</td>\n",
       "    </tr>\n",
       "    <tr>\n",
       "      <th>48306</th>\n",
       "      <td>5357843</td>\n",
       "      <td>gate_40</td>\n",
       "      <td>18</td>\n",
       "      <td>0</td>\n",
       "      <td>0</td>\n",
       "    </tr>\n",
       "  </tbody>\n",
       "</table>\n",
       "</div>"
      ],
      "text/plain": [
       "        userid  version  sum_gamerounds  retention_1  retention_7\n",
       "70811  7852158  gate_30              13            0            0\n",
       "53948  5987893  gate_30              13            0            0\n",
       "798      88235  gate_40              11            0            0\n",
       "83452  9247696  gate_40               8            0            1\n",
       "48306  5357843  gate_40              18            0            0"
      ]
     },
     "execution_count": 13,
     "metadata": {},
     "output_type": "execute_result"
    }
   ],
   "source": [
    "df_clean = df_clean[df_clean.sum_gamerounds < df_clean.sum_gamerounds.quantile(0.975)]\n",
    "df_clean.sample(5)"
   ]
  },
  {
   "cell_type": "code",
   "execution_count": 14,
   "id": "6d913648",
   "metadata": {},
   "outputs": [
    {
     "data": {
      "image/png": "[encoded data removed]",
      "text/plain": [
       "<Figure size 640x480 with 1 Axes>"
      ]
     },
     "metadata": {},
     "output_type": "display_data"
    }
   ],
   "source": [
    "sns.boxplot(data=df_clean, x='sum_gamerounds', y='version');"
   ]
  },
  {
   "cell_type": "code",
   "execution_count": 15,
   "id": "6cbb288c",
   "metadata": {},
   "outputs": [
    {
     "data": {
      "text/plain": [
       "count    87927.000000\n",
       "mean        39.099719\n",
       "std         57.241396\n",
       "min          0.000000\n",
       "25%          5.000000\n",
       "50%         16.000000\n",
       "75%         47.000000\n",
       "max        327.000000\n",
       "Name: sum_gamerounds, dtype: float64"
      ]
     },
     "execution_count": 15,
     "metadata": {},
     "output_type": "execute_result"
    }
   ],
   "source": [
    "df_clean.sum_gamerounds.describe()"
   ]
  },
  {
   "cell_type": "code",
   "execution_count": 16,
   "id": "beb169e6",
   "metadata": {},
   "outputs": [
    {
     "data": {
      "image/png": "[encoded data removed]",
      "text/plain": [
       "<Figure size 1000x400 with 2 Axes>"
      ]
     },
     "metadata": {},
     "output_type": "display_data"
    }
   ],
   "source": [
    "fig, (ax_histplot, ay_histplot) = plt.subplots(1, 2, figsize=(10, 4))\n",
    "\n",
    "ax_plot.set_title('Gate_30')\n",
    "sns.histplot(df_clean.sum_gamerounds[df.version=='gate_30'], bins=50, ax=ax_histplot);\n",
    "ax_plot.set_xlabel('Сумма раундов')\n",
    "ax_plot.set_ylabel('Количество игроков')\n",
    "\n",
    "ay_plot.set_title('Gate_40')\n",
    "sns.histplot(df_clean.sum_gamerounds[df.version=='gate_40'], bins=50, ax=ay_histplot);\n",
    "ay_plot.set_xlabel('Сумма раундов')\n",
    "ay_plot.set_ylabel('Количество игроков')\n",
    "\n",
    "plt.tight_layout()\n",
    "plt.show();"
   ]
  },
  {
   "cell_type": "code",
   "execution_count": 17,
   "id": "46111ab9",
   "metadata": {},
   "outputs": [
    {
     "data": {
      "text/plain": [
       "(87927, 5)"
      ]
     },
     "execution_count": 17,
     "metadata": {},
     "output_type": "execute_result"
    }
   ],
   "source": [
    "df_clean.shape"
   ]
  },
  {
   "cell_type": "markdown",
   "id": "ce5a1ba7",
   "metadata": {},
   "source": [
    "Распределение игроков по сумме раундов не является нормальным. Так как у нас 2 независимые выборки и распределение ненормальное, то для проверки статистической значимости применим критерий Манна-Уитни, но также рассчитаем и критерий Стьюдента, так как у нас достаточно много наблюдений. По графику боксплот можем предположить, что статистически значимых различий нет."
   ]
  },
  {
   "cell_type": "code",
   "execution_count": 30,
   "id": "4d1e02c6",
   "metadata": {},
   "outputs": [
    {
     "data": {
      "text/html": [
       "<div>\n",
       "<style scoped>\n",
       "    .dataframe tbody tr th:only-of-type {\n",
       "        vertical-align: middle;\n",
       "    }\n",
       "\n",
       "    .dataframe tbody tr th {\n",
       "        vertical-align: top;\n",
       "    }\n",
       "\n",
       "    .dataframe thead th {\n",
       "        text-align: right;\n",
       "    }\n",
       "</style>\n",
       "<table border=\"1\" class=\"dataframe\">\n",
       "  <thead>\n",
       "    <tr style=\"text-align: right;\">\n",
       "      <th></th>\n",
       "      <th>version</th>\n",
       "      <th>sum_gamerounds</th>\n",
       "      <th>userid</th>\n",
       "    </tr>\n",
       "  </thead>\n",
       "  <tbody>\n",
       "    <tr>\n",
       "      <th>0</th>\n",
       "      <td>gate_30</td>\n",
       "      <td>1705015</td>\n",
       "      <td>43568</td>\n",
       "    </tr>\n",
       "    <tr>\n",
       "      <th>1</th>\n",
       "      <td>gate_40</td>\n",
       "      <td>1732906</td>\n",
       "      <td>44359</td>\n",
       "    </tr>\n",
       "  </tbody>\n",
       "</table>\n",
       "</div>"
      ],
      "text/plain": [
       "   version  sum_gamerounds  userid\n",
       "0  gate_30         1705015   43568\n",
       "1  gate_40         1732906   44359"
      ]
     },
     "execution_count": 30,
     "metadata": {},
     "output_type": "execute_result"
    }
   ],
   "source": [
    "df_cl_grp = df_clean.groupby(['version'], as_index=False).agg({'sum_gamerounds': 'sum', 'userid': 'count'})\n",
    "df_cl_grp"
   ]
  },
  {
   "cell_type": "code",
   "execution_count": 19,
   "id": "de18cd50",
   "metadata": {},
   "outputs": [
    {
     "data": {
      "text/plain": [
       "MannwhitneyuResult(statistic=973479144.5, pvalue=0.056885991038433344)"
      ]
     },
     "execution_count": 19,
     "metadata": {},
     "output_type": "execute_result"
    }
   ],
   "source": [
    "mannwhitneyu(df_clean[df.version == 'gate_30']['sum_gamerounds'].values, \n",
    "             df_clean[df.version == 'gate_40']['sum_gamerounds'].values)"
   ]
  },
  {
   "cell_type": "code",
   "execution_count": 20,
   "id": "83b3f253",
   "metadata": {},
   "outputs": [
    {
     "data": {
      "text/plain": [
       "Ttest_indResult(statistic=0.17892505409330525, pvalue=0.8579969621670622)"
      ]
     },
     "execution_count": 20,
     "metadata": {},
     "output_type": "execute_result"
    }
   ],
   "source": [
    "ttest_ind(df_clean[df.version == 'gate_30']['sum_gamerounds'].values, \n",
    "             df_clean[df.version == 'gate_40']['sum_gamerounds'].values)"
   ]
  },
  {
   "cell_type": "markdown",
   "id": "57814ada",
   "metadata": {},
   "source": [
    "В результате расчета по обоим критериям pvalue > 0.05 => нет статистически значимых различий. Расчитаем мощность нашего теста."
   ]
  },
  {
   "cell_type": "code",
   "execution_count": 37,
   "id": "6131b0c7",
   "metadata": {},
   "outputs": [
    {
     "data": {
      "text/plain": [
       "0.05364252620941423"
      ]
     },
     "execution_count": 37,
     "metadata": {},
     "output_type": "execute_result"
    }
   ],
   "source": [
    "alpha = 0.05\n",
    "\n",
    "C_mean = df_clean[df_clean.version == 'gate_30']['sum_gamerounds'].values.mean()\n",
    "T_mean = df_clean[df_clean.version == 'gate_40']['sum_gamerounds'].values.mean()\n",
    "\n",
    "C_std = df_clean[df_clean.version == 'gate_30']['sum_gamerounds'].values.std()\n",
    "T_std = df_clean[df_clean.version == 'gate_40']['sum_gamerounds'].values.std()\n",
    "\n",
    "S = np.sqrt((T_std**2 + C_std **2)/ 2)\n",
    "effect_size =float((T_mean-C_mean)/ S)\n",
    "\n",
    "n = df_clean[df.version == 'gate_30']['userid'].count()\n",
    "\n",
    "analysis = TTestIndPower()\n",
    "result = analysis.solve_power(effect_size=effect_size, power=None, nobs1=n, ratio=1.0, alpha=alpha)\n",
    "result"
   ]
  },
  {
   "cell_type": "markdown",
   "id": "797a41cb",
   "metadata": {},
   "source": [
    "Мощность теста составляет 5%, что является критически низким показателем для принятия верного решения, так как с таким показателем мощности мы имеем очень низкую вероятность обнаружить статистически значимые различия. Для увеличения мощности необходимо увеличить размер выборки:"
   ]
  },
  {
   "cell_type": "code",
   "execution_count": 40,
   "id": "42428333",
   "metadata": {},
   "outputs": [
    {
     "data": {
      "text/plain": [
       "(10777368, 247)"
      ]
     },
     "execution_count": 40,
     "metadata": {},
     "output_type": "execute_result"
    }
   ],
   "source": [
    "power = 0.8\n",
    "N = analysis.solve_power(effect_size=effect_size, power=power, nobs1=None, ratio=1.0, alpha=alpha)\n",
    "round(N), round(N/n)"
   ]
  },
  {
   "cell_type": "markdown",
   "id": "d87c439b",
   "metadata": {},
   "source": [
    "Таким образом для данного теста, чтобы принять ту или иную гипотезу, основываясь на сумме раундов, необходимо увеличить размер выборки для группы в 247 раз и повторить эксперимент, в том случае если сумма раундов является важным показателем, я предполагаю, что показатели удержания - основные метрики в данном тесте."
   ]
  },
  {
   "cell_type": "markdown",
   "id": "e16c43be",
   "metadata": {},
   "source": [
    "### Посмотрим какие доли игроков у нас возвращаются в игру через 1 и 7 дней после установки:"
   ]
  },
  {
   "cell_type": "code",
   "execution_count": 21,
   "id": "0a29e652",
   "metadata": {},
   "outputs": [
    {
     "name": "stdout",
     "output_type": "stream",
     "text": [
      "ret_1_mean=0.445, ret_7_mean=0.186\n"
     ]
    }
   ],
   "source": [
    "ret_1_mean = df.retention_1.mean()\n",
    "ret_7_mean = df.retention_7.mean()\n",
    "\n",
    "print(f'{ret_1_mean=:.3f}, {ret_7_mean=:.3f}')"
   ]
  },
  {
   "cell_type": "markdown",
   "id": "0bc3b85f",
   "metadata": {},
   "source": [
    "Спустя 1 день после установки возвращается почти 45% игроков, спустя 7 дней почти 19% игроков.\n",
    "\n",
    "Посмотрим какие у нас различия в группах:"
   ]
  },
  {
   "cell_type": "code",
   "execution_count": 22,
   "id": "089a8ead",
   "metadata": {},
   "outputs": [
    {
     "data": {
      "text/html": [
       "<div>\n",
       "<style scoped>\n",
       "    .dataframe tbody tr th:only-of-type {\n",
       "        vertical-align: middle;\n",
       "    }\n",
       "\n",
       "    .dataframe tbody tr th {\n",
       "        vertical-align: top;\n",
       "    }\n",
       "\n",
       "    .dataframe thead th {\n",
       "        text-align: right;\n",
       "    }\n",
       "</style>\n",
       "<table border=\"1\" class=\"dataframe\">\n",
       "  <thead>\n",
       "    <tr style=\"text-align: right;\">\n",
       "      <th></th>\n",
       "      <th>userid</th>\n",
       "      <th>retention_1</th>\n",
       "      <th>retention_7</th>\n",
       "      <th>sum_gamerounds</th>\n",
       "    </tr>\n",
       "    <tr>\n",
       "      <th>version</th>\n",
       "      <th></th>\n",
       "      <th></th>\n",
       "      <th></th>\n",
       "      <th></th>\n",
       "    </tr>\n",
       "  </thead>\n",
       "  <tbody>\n",
       "    <tr>\n",
       "      <th>gate_30</th>\n",
       "      <td>44700</td>\n",
       "      <td>0.448188</td>\n",
       "      <td>0.190201</td>\n",
       "      <td>2344795</td>\n",
       "    </tr>\n",
       "    <tr>\n",
       "      <th>gate_40</th>\n",
       "      <td>45489</td>\n",
       "      <td>0.442283</td>\n",
       "      <td>0.182000</td>\n",
       "      <td>2333530</td>\n",
       "    </tr>\n",
       "  </tbody>\n",
       "</table>\n",
       "</div>"
      ],
      "text/plain": [
       "         userid  retention_1  retention_7  sum_gamerounds\n",
       "version                                                  \n",
       "gate_30   44700     0.448188     0.190201         2344795\n",
       "gate_40   45489     0.442283     0.182000         2333530"
      ]
     },
     "execution_count": 22,
     "metadata": {},
     "output_type": "execute_result"
    }
   ],
   "source": [
    "share_retention = df.groupby(['version']).agg({'userid': 'count', 'retention_1': 'mean', \n",
    "                                                   'retention_7': 'mean', 'sum_gamerounds': 'sum'})\n",
    "share_retention"
   ]
  },
  {
   "cell_type": "markdown",
   "id": "3acacebb",
   "metadata": {},
   "source": [
    "В группах есть небольшие различия, в группе gate_40 доля игроков незначительно, но меньше, чем в группе gate_30. \n",
    "\n",
    "Посмотрим на статическую значимость этих различий:"
   ]
  },
  {
   "cell_type": "code",
   "execution_count": 23,
   "id": "8777c523",
   "metadata": {},
   "outputs": [],
   "source": [
    "group_30_ret_1 = df[df.version == 'gate_30']['retention_1'].values\n",
    "group_40_ret_1 = df[df.version == 'gate_40']['retention_1'].values\n",
    "\n",
    "group_30_ret_7 = df[df.version == 'gate_30']['retention_7'].values\n",
    "group_40_ret_7 = df[df.version == 'gate_40']['retention_7'].values"
   ]
  },
  {
   "cell_type": "code",
   "execution_count": 24,
   "id": "327b6f34",
   "metadata": {},
   "outputs": [
    {
     "name": "stdout",
     "output_type": "stream",
     "text": [
      "Доверительный интервал retention_1: -0.0006 - 0.0125\n",
      "Доверительный интервал retention_7: 0.0034 - 0.0133\n"
     ]
    }
   ],
   "source": [
    "result_1 = bs.bootstrap_ab(group_30_ret_1, group_40_ret_1, stat_func=bs_stats.mean,\n",
    "                    compare_func=bs_compare.difference, alpha=0.05, num_iterations=1000)\n",
    "\n",
    "print(f'Доверительный интервал retention_1: {round(result_1.lower_bound, 4)} - {round(result_1.upper_bound, 4)}')\n",
    "\n",
    "result_7 = bs.bootstrap_ab(group_30_ret_7, group_40_ret_7, stat_func=bs_stats.mean,\n",
    "                           compare_func=bs_compare.difference, alpha=0.05, num_iterations=1000)\n",
    "\n",
    "print(f'Доверительный интервал retention_7: {round(result_7.lower_bound, 4)} - {round(result_7.upper_bound, 4)}')"
   ]
  },
  {
   "cell_type": "markdown",
   "id": "ae004e54",
   "metadata": {},
   "source": [
    "Из расчета мы видим, что доверительный интервал проходит через ноль для 1-дневного удержания, что говорит о том, что нет статистически значимых различий, в 7-дневном удержании доверетильный интервал не проходит через ноль, таким образом есть статитстически значимые различия. \n",
    "\n",
    "Рассмотрим также критерий Хи-квадрат для расчета статистической значимости:"
   ]
  },
  {
   "cell_type": "code",
   "execution_count": 25,
   "id": "13084536",
   "metadata": {},
   "outputs": [
    {
     "data": {
      "text/html": [
       "<div>\n",
       "<style scoped>\n",
       "    .dataframe tbody tr th:only-of-type {\n",
       "        vertical-align: middle;\n",
       "    }\n",
       "\n",
       "    .dataframe tbody tr th {\n",
       "        vertical-align: top;\n",
       "    }\n",
       "\n",
       "    .dataframe thead th {\n",
       "        text-align: right;\n",
       "    }\n",
       "</style>\n",
       "<table border=\"1\" class=\"dataframe\">\n",
       "  <thead>\n",
       "    <tr style=\"text-align: right;\">\n",
       "      <th></th>\n",
       "      <th>userid</th>\n",
       "      <th>retention_1</th>\n",
       "      <th>retention_7</th>\n",
       "      <th>sum_gamerounds</th>\n",
       "    </tr>\n",
       "    <tr>\n",
       "      <th>version</th>\n",
       "      <th></th>\n",
       "      <th></th>\n",
       "      <th></th>\n",
       "      <th></th>\n",
       "    </tr>\n",
       "  </thead>\n",
       "  <tbody>\n",
       "    <tr>\n",
       "      <th>gate_30</th>\n",
       "      <td>44700</td>\n",
       "      <td>20034</td>\n",
       "      <td>8502</td>\n",
       "      <td>2344795</td>\n",
       "    </tr>\n",
       "    <tr>\n",
       "      <th>gate_40</th>\n",
       "      <td>45489</td>\n",
       "      <td>20119</td>\n",
       "      <td>8279</td>\n",
       "      <td>2333530</td>\n",
       "    </tr>\n",
       "  </tbody>\n",
       "</table>\n",
       "</div>"
      ],
      "text/plain": [
       "         userid  retention_1  retention_7  sum_gamerounds\n",
       "version                                                  \n",
       "gate_30   44700        20034         8502         2344795\n",
       "gate_40   45489        20119         8279         2333530"
      ]
     },
     "execution_count": 25,
     "metadata": {},
     "output_type": "execute_result"
    }
   ],
   "source": [
    "frequency_retention = df.groupby(['version']).agg({'userid': 'count', 'retention_1': 'sum', \n",
    "                                                   'retention_7': 'sum', 'sum_gamerounds': 'sum'})\n",
    "frequency_retention"
   ]
  },
  {
   "cell_type": "code",
   "execution_count": 26,
   "id": "b6627954",
   "metadata": {},
   "outputs": [
    {
     "name": "stdout",
     "output_type": "stream",
     "text": [
      "stat_1 = 3.1830, p_value_1 = 0.0744\n",
      "stat_7 = 10.0132, p_value_7 = 0.0016\n"
     ]
    }
   ],
   "source": [
    "m_A_1, m_B_1 = frequency_retention.retention_1\n",
    "m_A_7, m_B_7 = frequency_retention.retention_7\n",
    "\n",
    "n_A, n_B = frequency_retention.userid\n",
    "\n",
    "stat_1, p_value_1, _, _ = chi2_contingency([[m_A_1, n_A-m_A_1], [m_B_1, n_B - m_B_1]], correction=False)\n",
    "stat_7, p_value_7, _, _ = chi2_contingency([[m_A_7, n_A-m_A_7], [m_B_7, n_B - m_B_7]], correction=False)\n",
    "\n",
    "print(f'{stat_1 = :.4f}, {p_value_1 = :.4f}')\n",
    "print(f'{stat_7 = :.4f}, {p_value_7 = :.4f}')"
   ]
  },
  {
   "cell_type": "markdown",
   "id": "3bba21d6",
   "metadata": {},
   "source": [
    "Получили такие же результаты, как и в предыдущем расчете: нет статитстически значимых различий для 1-дневного удержания, а для 7-дневного удержания p_value = 0.0016 < 0.05 => есть статистически значимые различия.\n",
    "\n",
    "В группе, где ворота стоят на 30 уровне возвращаются в игру на 223 игрока больше, чем в группе, где ворота стоят на 40 уровне. \n",
    "\n",
    "**Таким образом, если мы хотим поддерживать высокий уровень удержания как на 1 день, так и на 7, то не стоит перемещать ворота на 40 уровень.**\n",
    "\n",
    "<img src=\"ziggy_smiling.png\" width=\"150\" height=\"70\">"
   ]
  },
  {
   "cell_type": "markdown",
   "id": "2d28810a",
   "metadata": {},
   "source": [
    "Проверим также мощность наших тестов (вероятность обнаружить статистически значимую разницу или эффект, если он действительно существуeт):"
   ]
  },
  {
   "cell_type": "code",
   "execution_count": 27,
   "id": "cc2c3a5b",
   "metadata": {},
   "outputs": [
    {
     "data": {
      "text/plain": [
       "0.4272451872776839"
      ]
     },
     "execution_count": 27,
     "metadata": {},
     "output_type": "execute_result"
    }
   ],
   "source": [
    "import math\n",
    "import statsmodels.stats.power as smp\n",
    "alpha = 0.05\n",
    "n = n_A\n",
    "p_1 = share_retention.retention_1[0]\n",
    "p_2 = share_retention.retention_1[1]\n",
    "\n",
    "effect = 2 * math.asin(np.sqrt(p_1)) - 2 * math.asin(np.sqrt(p_2))\n",
    "\n",
    "power = smp.zt_ind_solve_power(effect_size=effect, nobs1=n, alpha=alpha, alternative='two-sided')\n",
    "power"
   ]
  },
  {
   "cell_type": "code",
   "execution_count": 28,
   "id": "99a72752",
   "metadata": {},
   "outputs": [
    {
     "data": {
      "text/plain": [
       "0.8830912109776261"
      ]
     },
     "execution_count": 28,
     "metadata": {},
     "output_type": "execute_result"
    }
   ],
   "source": [
    "p_1 = share_retention.retention_7[0]\n",
    "p_2 = share_retention.retention_7[1]\n",
    "\n",
    "effect = 2 * math.asin(np.sqrt(p_1)) - 2 * math.asin(np.sqrt(p_2))\n",
    "\n",
    "power = smp.zt_ind_solve_power(effect_size=effect, nobs1=n, alpha=alpha, alternative='two-sided')\n",
    "power"
   ]
  },
  {
   "cell_type": "markdown",
   "id": "f0b90fcc",
   "metadata": {},
   "source": [
    "Для 1-дневного удержания получили низкую вероятность (43%) обнаружить разницу в группах, а для 7-дневного удержания мощность составляет 88%, таким образом для показателя 1-дневного удержания необходимо увеличить выборку:"
   ]
  },
  {
   "cell_type": "code",
   "execution_count": 29,
   "id": "912a842e",
   "metadata": {},
   "outputs": [
    {
     "name": "stdout",
     "output_type": "stream",
     "text": [
      "Необходимый размер выборки 111190\n"
     ]
    }
   ],
   "source": [
    "p_1 = share_retention.retention_1[0]\n",
    "p_2 = share_retention.retention_1[1]\n",
    "\n",
    "effect = 2*math.asin(np.sqrt(p_1)) - 2*math.asin(np.sqrt(p_2))\n",
    "\n",
    "n = smp.zt_ind_solve_power(effect_size=effect, power=0.80, alpha=alpha, alternative='two-sided')\n",
    "print(f'Необходимый размер выборки {round(n)}')"
   ]
  }
 ],
 "metadata": {
  "kernelspec": {
   "display_name": "Python 3 (ipykernel)",
   "language": "python",
   "name": "python3"
  },
  "language_info": {
   "codemirror_mode": {
    "name": "ipython",
    "version": 3
   },
   "file_extension": ".py",
   "mimetype": "text/x-python",
   "name": "python",
   "nbconvert_exporter": "python",
   "pygments_lexer": "ipython3",
   "version": "3.9.13"
  }
 },
 "nbformat": 4,
 "nbformat_minor": 5
}
